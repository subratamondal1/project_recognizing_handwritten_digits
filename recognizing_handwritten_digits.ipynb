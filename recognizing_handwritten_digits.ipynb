{
  "nbformat": 4,
  "nbformat_minor": 0,
  "metadata": {
    "colab": {
      "provenance": [],
      "authorship_tag": "ABX9TyPXXnlx7rTXhWSfl7+dkGPC",
      "include_colab_link": true
    },
    "kernelspec": {
      "name": "python3",
      "display_name": "Python 3"
    },
    "language_info": {
      "name": "python"
    }
  },
  "cells": [
    {
      "cell_type": "markdown",
      "metadata": {
        "id": "view-in-github",
        "colab_type": "text"
      },
      "source": [
        "<a href=\"https://colab.research.google.com/github/subratamondal1/project_recognizing_handwritten_digits/blob/main/recognizing_handwritten_digits.ipynb\" target=\"_parent\"><img src=\"https://colab.research.google.com/assets/colab-badge.svg\" alt=\"Open In Colab\"/></a>"
      ]
    },
    {
      "cell_type": "markdown",
      "source": [
        "# 📚 Project -- Recognizing Handwritten Digits\n",
        "\n",
        "## Introduction\n",
        "We will build a Neural Network that can recognize handwritten numbers. To achieve this goal, we use **MNIST**, a database of handwritten digits made up of a training set of **60,000** examples, and a test set of 10,000 examples. The training examples are annotated by humans with the correct answer. For instance, if the handwritten digit is the number “3,” then 3 is simply the label associated with that example.\n",
        "* **`Supervised Learning ---`** a type of machine learning that uses labeled data to train a model that can classify data or predict outcomes.\n",
        "* Each MNIST image is in **grayscale** and consists of **28 x 28** pixels."
      ],
      "metadata": {
        "id": "dQpH0QjmIP8w"
      }
    },
    {
      "cell_type": "markdown",
      "source": [
        "## Defining a Simple Neural Network\n",
        "We start with a very simple neural network and then progressively improve it.\n",
        "\n",
        "### Import Libraries"
      ],
      "metadata": {
        "id": "3lUKb5rIJOpG"
      }
    },
    {
      "cell_type": "code",
      "execution_count": 1,
      "metadata": {
        "id": "9AR2jtGtIH4V"
      },
      "outputs": [],
      "source": [
        "import numpy as np\n",
        "import tensorflow as tf\n",
        "from tensorflow import keras\n",
        "import matplotlib.pyplot as plt\n",
        "from PIL import Image"
      ]
    },
    {
      "cell_type": "markdown",
      "source": [
        "### Import Dataset"
      ],
      "metadata": {
        "id": "gEbHo6RYfq20"
      }
    },
    {
      "cell_type": "code",
      "source": [
        "mnist = keras.datasets.mnist\n",
        "(X_train, y_train), (X_test, y_test) = mnist.load_data()\n",
        "print(f\"Training Data: {X_train.shape}\")\n",
        "print(f\"Testing Data: {X_test.shape}\")"
      ],
      "metadata": {
        "colab": {
          "base_uri": "https://localhost:8080/"
        },
        "id": "RpsMwIYYfqGQ",
        "outputId": "dde4fcab-af35-48e9-8a49-ecbb2533d3a9"
      },
      "execution_count": 2,
      "outputs": [
        {
          "output_type": "stream",
          "name": "stdout",
          "text": [
            "Training Data: (60000, 28, 28)\n",
            "Testing Data: (10000, 28, 28)\n"
          ]
        }
      ]
    },
    {
      "cell_type": "code",
      "source": [],
      "metadata": {
        "id": "_MEWB9hPnFbo"
      },
      "execution_count": 2,
      "outputs": []
    },
    {
      "cell_type": "markdown",
      "source": [
        "### Display Data"
      ],
      "metadata": {
        "id": "teQmcoAZnHTy"
      }
    },
    {
      "cell_type": "code",
      "source": [
        "fig, axs = plt.subplots(2, 2, sharey=True, sharex=True)\n",
        "axs[0,0].imshow(X_train[44])\n",
        "axs[0,0].set_title(y_train[44])\n",
        "\n",
        "axs[0,1].imshow(X_train[55])\n",
        "axs[0,1].set_title(y_train[55])\n",
        "\n",
        "axs[1,0].imshow(X_train[66])\n",
        "axs[1,0].set_title(y_train[66])\n",
        "\n",
        "axs[1,1].imshow(X_train[77])\n",
        "axs[1,1].set_title(y_train[77])"
      ],
      "metadata": {
        "colab": {
          "base_uri": "https://localhost:8080/",
          "height": 470
        },
        "id": "gOv79wlYiMtd",
        "outputId": "cffedbf6-2825-464e-ffd9-58d0e7408bcd"
      },
      "execution_count": 3,
      "outputs": [
        {
          "output_type": "execute_result",
          "data": {
            "text/plain": [
              "Text(0.5, 1.0, '1')"
            ]
          },
          "metadata": {},
          "execution_count": 3
        },
        {
          "output_type": "display_data",
          "data": {
            "text/plain": [
              "<Figure size 640x480 with 4 Axes>"
            ],
            "image/png": "[encoded data removed]"
          },
          "metadata": {}
        }
      ]
    },
    {
      "cell_type": "code",
      "source": [
        "# Network and Train\n",
        "EPOCHS = 100\n",
        "BATCH_SIZE = 128\n",
        "VERBOSE = 1\n",
        "NB_CLASSES = 10 # number of outputs = number of digits\n",
        "N_HIDDEN = 128\n",
        "VALIDATION_SPLIT = 0.2 # how much TRAIN is reserved for VALIDATION\n",
        "\n",
        "# X_train is 60000 rows of 28x28 values; we  --> reshape it to 60000 x 784.\n",
        "RESHAPED = 784 # 28x28 = 784\n",
        "# the reshaped DATA will have a shape of (60000, 784), where each row is a vector representation of an image.\n",
        "X_train = X_train.reshape(X_train.shape[0], RESHAPED)\n",
        "X_test = X_test.reshape(X_test.shape[0], RESHAPED)\n",
        "X_train = X_train.astype('float32')\n",
        "X_test = X_test.astype('float32')\n",
        "\n",
        "# Normalize inputs in range [0,1]\n",
        "X_train /= 255\n",
        "X_test /= 255\n",
        "\n",
        "print(X_train.shape[0], \"Train Samples\")\n",
        "print(X_test.shape[0], \"Test Samples\")\n",
        "\n",
        "# One Hot representation of the data\n",
        "y_train = keras.utils.to_categorical(y_train, NB_CLASSES)\n",
        "y_test = keras.utils.to_categorical(y_test, NB_CLASSES)"
      ],
      "metadata": {
        "colab": {
          "base_uri": "https://localhost:8080/"
        },
        "id": "CIcgG5cKKNtg",
        "outputId": "26da9865-01dd-4dbd-b280-0b6367556347"
      },
      "execution_count": 4,
      "outputs": [
        {
          "output_type": "stream",
          "name": "stdout",
          "text": [
            "60000 Train Samples\n",
            "10000 Test Samples\n"
          ]
        }
      ]
    },
    {
      "cell_type": "code",
      "source": [
        "# Build the model.\n",
        "model = tf.keras.models.Sequential()\n",
        "model.add(keras.layers.Dense(NB_CLASSES,\n",
        "            input_shape=(RESHAPED,),\n",
        "            name='dense_layer',\n",
        "            activation='softmax'))"
      ],
      "metadata": {
        "id": "rai63AK6dsAb"
      },
      "execution_count": 5,
      "outputs": []
    },
    {
      "cell_type": "code",
      "source": [
        "# Compiling the model.\n",
        "model.compile(optimizer='SGD',\n",
        "              loss='categorical_crossentropy',\n",
        "              metrics=['accuracy'])"
      ],
      "metadata": {
        "id": "it2L84v0ePt9"
      },
      "execution_count": 6,
      "outputs": []
    },
    {
      "cell_type": "code",
      "source": [
        "# Training the model.\n",
        "model.fit(X_train, y_train,\n",
        "          batch_size=BATCH_SIZE, epochs=EPOCHS,\n",
        "          verbose=VERBOSE, validation_split=VALIDATION_SPLIT)"
      ],
      "metadata": {
        "colab": {
          "base_uri": "https://localhost:8080/"
        },
        "id": "o7mQ3-S8nvk1",
        "outputId": "8ab50f40-173d-4de6-afa0-9124e56196ef"
      },
      "execution_count": 7,
      "outputs": [
        {
          "output_type": "stream",
          "name": "stdout",
          "text": [
            "Epoch 1/100\n",
            "375/375 [==============================] - 4s 7ms/step - loss: 1.3583 - accuracy: 0.6851 - val_loss: 0.8823 - val_accuracy: 0.8317\n",
            "Epoch 2/100\n",
            "375/375 [==============================] - 2s 6ms/step - loss: 0.7847 - accuracy: 0.8328 - val_loss: 0.6514 - val_accuracy: 0.8587\n",
            "Epoch 3/100\n",
            "375/375 [==============================] - 1s 3ms/step - loss: 0.6393 - accuracy: 0.8511 - val_loss: 0.5585 - val_accuracy: 0.8711\n",
            "Epoch 4/100\n",
            "375/375 [==============================] - 2s 5ms/step - loss: 0.5685 - accuracy: 0.8615 - val_loss: 0.5064 - val_accuracy: 0.8768\n",
            "Epoch 5/100\n",
            "375/375 [==============================] - 2s 4ms/step - loss: 0.5252 - accuracy: 0.8683 - val_loss: 0.4730 - val_accuracy: 0.8822\n",
            "Epoch 6/100\n",
            "375/375 [==============================] - 1s 3ms/step - loss: 0.4953 - accuracy: 0.8734 - val_loss: 0.4493 - val_accuracy: 0.8861\n",
            "Epoch 7/100\n",
            "375/375 [==============================] - 1s 3ms/step - loss: 0.4732 - accuracy: 0.8777 - val_loss: 0.4311 - val_accuracy: 0.8916\n",
            "Epoch 8/100\n",
            "375/375 [==============================] - 1s 3ms/step - loss: 0.4559 - accuracy: 0.8807 - val_loss: 0.4171 - val_accuracy: 0.8942\n",
            "Epoch 9/100\n",
            "375/375 [==============================] - 1s 3ms/step - loss: 0.4420 - accuracy: 0.8832 - val_loss: 0.4056 - val_accuracy: 0.8963\n",
            "Epoch 10/100\n",
            "375/375 [==============================] - 1s 3ms/step - loss: 0.4305 - accuracy: 0.8855 - val_loss: 0.3962 - val_accuracy: 0.8972\n",
            "Epoch 11/100\n",
            "375/375 [==============================] - 1s 3ms/step - loss: 0.4208 - accuracy: 0.8876 - val_loss: 0.3881 - val_accuracy: 0.8988\n",
            "Epoch 12/100\n",
            "375/375 [==============================] - 1s 3ms/step - loss: 0.4124 - accuracy: 0.8894 - val_loss: 0.3813 - val_accuracy: 0.8994\n",
            "Epoch 13/100\n",
            "375/375 [==============================] - 1s 3ms/step - loss: 0.4051 - accuracy: 0.8907 - val_loss: 0.3752 - val_accuracy: 0.9004\n",
            "Epoch 14/100\n",
            "375/375 [==============================] - 1s 4ms/step - loss: 0.3986 - accuracy: 0.8921 - val_loss: 0.3697 - val_accuracy: 0.9020\n",
            "Epoch 15/100\n",
            "375/375 [==============================] - 2s 4ms/step - loss: 0.3928 - accuracy: 0.8932 - val_loss: 0.3650 - val_accuracy: 0.9029\n",
            "Epoch 16/100\n",
            "375/375 [==============================] - 1s 4ms/step - loss: 0.3876 - accuracy: 0.8946 - val_loss: 0.3606 - val_accuracy: 0.9043\n",
            "Epoch 17/100\n",
            "375/375 [==============================] - 1s 3ms/step - loss: 0.3829 - accuracy: 0.8955 - val_loss: 0.3569 - val_accuracy: 0.9053\n",
            "Epoch 18/100\n",
            "375/375 [==============================] - 1s 3ms/step - loss: 0.3787 - accuracy: 0.8966 - val_loss: 0.3533 - val_accuracy: 0.9054\n",
            "Epoch 19/100\n",
            "375/375 [==============================] - 1s 3ms/step - loss: 0.3747 - accuracy: 0.8972 - val_loss: 0.3504 - val_accuracy: 0.9053\n",
            "Epoch 20/100\n",
            "375/375 [==============================] - 1s 3ms/step - loss: 0.3712 - accuracy: 0.8984 - val_loss: 0.3471 - val_accuracy: 0.9062\n",
            "Epoch 21/100\n",
            "375/375 [==============================] - 1s 3ms/step - loss: 0.3678 - accuracy: 0.8985 - val_loss: 0.3448 - val_accuracy: 0.9062\n",
            "Epoch 22/100\n",
            "375/375 [==============================] - 1s 3ms/step - loss: 0.3648 - accuracy: 0.8998 - val_loss: 0.3419 - val_accuracy: 0.9070\n",
            "Epoch 23/100\n",
            "375/375 [==============================] - 1s 3ms/step - loss: 0.3618 - accuracy: 0.9007 - val_loss: 0.3397 - val_accuracy: 0.9072\n",
            "Epoch 24/100\n",
            "375/375 [==============================] - 1s 3ms/step - loss: 0.3592 - accuracy: 0.9014 - val_loss: 0.3374 - val_accuracy: 0.9078\n",
            "Epoch 25/100\n",
            "375/375 [==============================] - 1s 4ms/step - loss: 0.3566 - accuracy: 0.9020 - val_loss: 0.3352 - val_accuracy: 0.9082\n",
            "Epoch 26/100\n",
            "375/375 [==============================] - 2s 4ms/step - loss: 0.3542 - accuracy: 0.9023 - val_loss: 0.3332 - val_accuracy: 0.9097\n",
            "Epoch 27/100\n",
            "375/375 [==============================] - 1s 3ms/step - loss: 0.3520 - accuracy: 0.9030 - val_loss: 0.3316 - val_accuracy: 0.9087\n",
            "Epoch 28/100\n",
            "375/375 [==============================] - 1s 3ms/step - loss: 0.3498 - accuracy: 0.9037 - val_loss: 0.3299 - val_accuracy: 0.9097\n",
            "Epoch 29/100\n",
            "375/375 [==============================] - 1s 3ms/step - loss: 0.3478 - accuracy: 0.9044 - val_loss: 0.3283 - val_accuracy: 0.9097\n",
            "Epoch 30/100\n",
            "375/375 [==============================] - 1s 3ms/step - loss: 0.3459 - accuracy: 0.9046 - val_loss: 0.3266 - val_accuracy: 0.9103\n",
            "Epoch 31/100\n",
            "375/375 [==============================] - 1s 3ms/step - loss: 0.3441 - accuracy: 0.9055 - val_loss: 0.3252 - val_accuracy: 0.9109\n",
            "Epoch 32/100\n",
            "375/375 [==============================] - 1s 3ms/step - loss: 0.3423 - accuracy: 0.9058 - val_loss: 0.3238 - val_accuracy: 0.9107\n",
            "Epoch 33/100\n",
            "375/375 [==============================] - 1s 3ms/step - loss: 0.3407 - accuracy: 0.9061 - val_loss: 0.3225 - val_accuracy: 0.9115\n",
            "Epoch 34/100\n",
            "375/375 [==============================] - 1s 3ms/step - loss: 0.3392 - accuracy: 0.9065 - val_loss: 0.3211 - val_accuracy: 0.9123\n",
            "Epoch 35/100\n",
            "375/375 [==============================] - 1s 3ms/step - loss: 0.3377 - accuracy: 0.9069 - val_loss: 0.3200 - val_accuracy: 0.9118\n",
            "Epoch 36/100\n",
            "375/375 [==============================] - 2s 4ms/step - loss: 0.3362 - accuracy: 0.9072 - val_loss: 0.3188 - val_accuracy: 0.9127\n",
            "Epoch 37/100\n",
            "375/375 [==============================] - 2s 5ms/step - loss: 0.3348 - accuracy: 0.9071 - val_loss: 0.3177 - val_accuracy: 0.9133\n",
            "Epoch 38/100\n",
            "375/375 [==============================] - 2s 6ms/step - loss: 0.3335 - accuracy: 0.9075 - val_loss: 0.3167 - val_accuracy: 0.9137\n",
            "Epoch 39/100\n",
            "375/375 [==============================] - 1s 3ms/step - loss: 0.3322 - accuracy: 0.9076 - val_loss: 0.3157 - val_accuracy: 0.9134\n",
            "Epoch 40/100\n",
            "375/375 [==============================] - 2s 6ms/step - loss: 0.3310 - accuracy: 0.9081 - val_loss: 0.3147 - val_accuracy: 0.9143\n",
            "Epoch 41/100\n",
            "375/375 [==============================] - 2s 5ms/step - loss: 0.3298 - accuracy: 0.9085 - val_loss: 0.3137 - val_accuracy: 0.9138\n",
            "Epoch 42/100\n",
            "375/375 [==============================] - 2s 5ms/step - loss: 0.3286 - accuracy: 0.9088 - val_loss: 0.3127 - val_accuracy: 0.9144\n",
            "Epoch 43/100\n",
            "375/375 [==============================] - 3s 7ms/step - loss: 0.3276 - accuracy: 0.9089 - val_loss: 0.3119 - val_accuracy: 0.9148\n",
            "Epoch 44/100\n",
            "375/375 [==============================] - 2s 6ms/step - loss: 0.3264 - accuracy: 0.9093 - val_loss: 0.3111 - val_accuracy: 0.9150\n",
            "Epoch 45/100\n",
            "375/375 [==============================] - 2s 5ms/step - loss: 0.3255 - accuracy: 0.9094 - val_loss: 0.3103 - val_accuracy: 0.9148\n",
            "Epoch 46/100\n",
            "375/375 [==============================] - 2s 6ms/step - loss: 0.3244 - accuracy: 0.9099 - val_loss: 0.3095 - val_accuracy: 0.9153\n",
            "Epoch 47/100\n",
            "375/375 [==============================] - 2s 6ms/step - loss: 0.3235 - accuracy: 0.9098 - val_loss: 0.3087 - val_accuracy: 0.9157\n",
            "Epoch 48/100\n",
            "375/375 [==============================] - 1s 3ms/step - loss: 0.3226 - accuracy: 0.9101 - val_loss: 0.3080 - val_accuracy: 0.9158\n",
            "Epoch 49/100\n",
            "375/375 [==============================] - 1s 3ms/step - loss: 0.3216 - accuracy: 0.9104 - val_loss: 0.3073 - val_accuracy: 0.9163\n",
            "Epoch 50/100\n",
            "375/375 [==============================] - 1s 4ms/step - loss: 0.3208 - accuracy: 0.9109 - val_loss: 0.3067 - val_accuracy: 0.9162\n",
            "Epoch 51/100\n",
            "375/375 [==============================] - 2s 4ms/step - loss: 0.3199 - accuracy: 0.9106 - val_loss: 0.3060 - val_accuracy: 0.9163\n",
            "Epoch 52/100\n",
            "375/375 [==============================] - 1s 4ms/step - loss: 0.3191 - accuracy: 0.9108 - val_loss: 0.3053 - val_accuracy: 0.9168\n",
            "Epoch 53/100\n",
            "375/375 [==============================] - 1s 3ms/step - loss: 0.3182 - accuracy: 0.9113 - val_loss: 0.3048 - val_accuracy: 0.9165\n",
            "Epoch 54/100\n",
            "375/375 [==============================] - 1s 3ms/step - loss: 0.3175 - accuracy: 0.9116 - val_loss: 0.3042 - val_accuracy: 0.9164\n",
            "Epoch 55/100\n",
            "375/375 [==============================] - 1s 3ms/step - loss: 0.3167 - accuracy: 0.9120 - val_loss: 0.3035 - val_accuracy: 0.9169\n",
            "Epoch 56/100\n",
            "375/375 [==============================] - 1s 3ms/step - loss: 0.3159 - accuracy: 0.9121 - val_loss: 0.3030 - val_accuracy: 0.9168\n",
            "Epoch 57/100\n",
            "375/375 [==============================] - 1s 3ms/step - loss: 0.3153 - accuracy: 0.9121 - val_loss: 0.3024 - val_accuracy: 0.9172\n",
            "Epoch 58/100\n",
            "375/375 [==============================] - 1s 3ms/step - loss: 0.3146 - accuracy: 0.9124 - val_loss: 0.3019 - val_accuracy: 0.9174\n",
            "Epoch 59/100\n",
            "375/375 [==============================] - 1s 3ms/step - loss: 0.3139 - accuracy: 0.9127 - val_loss: 0.3013 - val_accuracy: 0.9177\n",
            "Epoch 60/100\n",
            "375/375 [==============================] - 1s 3ms/step - loss: 0.3132 - accuracy: 0.9128 - val_loss: 0.3009 - val_accuracy: 0.9175\n",
            "Epoch 61/100\n",
            "375/375 [==============================] - 2s 4ms/step - loss: 0.3125 - accuracy: 0.9131 - val_loss: 0.3004 - val_accuracy: 0.9176\n",
            "Epoch 62/100\n",
            "375/375 [==============================] - 2s 4ms/step - loss: 0.3119 - accuracy: 0.9134 - val_loss: 0.2999 - val_accuracy: 0.9178\n",
            "Epoch 63/100\n",
            "375/375 [==============================] - 1s 3ms/step - loss: 0.3113 - accuracy: 0.9133 - val_loss: 0.2993 - val_accuracy: 0.9182\n",
            "Epoch 64/100\n",
            "375/375 [==============================] - 1s 3ms/step - loss: 0.3107 - accuracy: 0.9135 - val_loss: 0.2989 - val_accuracy: 0.9178\n",
            "Epoch 65/100\n",
            "375/375 [==============================] - 1s 3ms/step - loss: 0.3101 - accuracy: 0.9133 - val_loss: 0.2985 - val_accuracy: 0.9181\n",
            "Epoch 66/100\n",
            "375/375 [==============================] - 1s 3ms/step - loss: 0.3095 - accuracy: 0.9137 - val_loss: 0.2981 - val_accuracy: 0.9178\n",
            "Epoch 67/100\n",
            "375/375 [==============================] - 1s 3ms/step - loss: 0.3089 - accuracy: 0.9139 - val_loss: 0.2976 - val_accuracy: 0.9183\n",
            "Epoch 68/100\n",
            "375/375 [==============================] - 1s 3ms/step - loss: 0.3083 - accuracy: 0.9140 - val_loss: 0.2972 - val_accuracy: 0.9184\n",
            "Epoch 69/100\n",
            "375/375 [==============================] - 1s 3ms/step - loss: 0.3078 - accuracy: 0.9140 - val_loss: 0.2968 - val_accuracy: 0.9187\n",
            "Epoch 70/100\n",
            "375/375 [==============================] - 1s 3ms/step - loss: 0.3073 - accuracy: 0.9141 - val_loss: 0.2964 - val_accuracy: 0.9183\n",
            "Epoch 71/100\n",
            "375/375 [==============================] - 1s 4ms/step - loss: 0.3068 - accuracy: 0.9144 - val_loss: 0.2959 - val_accuracy: 0.9187\n",
            "Epoch 72/100\n",
            "375/375 [==============================] - 2s 4ms/step - loss: 0.3062 - accuracy: 0.9146 - val_loss: 0.2957 - val_accuracy: 0.9182\n",
            "Epoch 73/100\n",
            "375/375 [==============================] - 1s 3ms/step - loss: 0.3058 - accuracy: 0.9146 - val_loss: 0.2952 - val_accuracy: 0.9186\n",
            "Epoch 74/100\n",
            "375/375 [==============================] - 1s 3ms/step - loss: 0.3052 - accuracy: 0.9149 - val_loss: 0.2949 - val_accuracy: 0.9187\n",
            "Epoch 75/100\n",
            "375/375 [==============================] - 1s 3ms/step - loss: 0.3048 - accuracy: 0.9152 - val_loss: 0.2945 - val_accuracy: 0.9183\n",
            "Epoch 76/100\n",
            "375/375 [==============================] - 1s 3ms/step - loss: 0.3043 - accuracy: 0.9153 - val_loss: 0.2942 - val_accuracy: 0.9185\n",
            "Epoch 77/100\n",
            "375/375 [==============================] - 1s 3ms/step - loss: 0.3038 - accuracy: 0.9154 - val_loss: 0.2939 - val_accuracy: 0.9192\n",
            "Epoch 78/100\n",
            "375/375 [==============================] - 1s 3ms/step - loss: 0.3034 - accuracy: 0.9153 - val_loss: 0.2935 - val_accuracy: 0.9185\n",
            "Epoch 79/100\n",
            "375/375 [==============================] - 1s 3ms/step - loss: 0.3029 - accuracy: 0.9154 - val_loss: 0.2932 - val_accuracy: 0.9187\n",
            "Epoch 80/100\n",
            "375/375 [==============================] - 1s 3ms/step - loss: 0.3025 - accuracy: 0.9154 - val_loss: 0.2928 - val_accuracy: 0.9187\n",
            "Epoch 81/100\n",
            "375/375 [==============================] - 1s 3ms/step - loss: 0.3021 - accuracy: 0.9158 - val_loss: 0.2925 - val_accuracy: 0.9191\n",
            "Epoch 82/100\n",
            "375/375 [==============================] - 2s 4ms/step - loss: 0.3016 - accuracy: 0.9158 - val_loss: 0.2923 - val_accuracy: 0.9187\n",
            "Epoch 83/100\n",
            "375/375 [==============================] - 2s 5ms/step - loss: 0.3012 - accuracy: 0.9162 - val_loss: 0.2919 - val_accuracy: 0.9187\n",
            "Epoch 84/100\n",
            "375/375 [==============================] - 1s 3ms/step - loss: 0.3008 - accuracy: 0.9160 - val_loss: 0.2916 - val_accuracy: 0.9188\n",
            "Epoch 85/100\n",
            "375/375 [==============================] - 1s 3ms/step - loss: 0.3004 - accuracy: 0.9159 - val_loss: 0.2913 - val_accuracy: 0.9196\n",
            "Epoch 86/100\n",
            "375/375 [==============================] - 1s 3ms/step - loss: 0.3000 - accuracy: 0.9161 - val_loss: 0.2910 - val_accuracy: 0.9191\n",
            "Epoch 87/100\n",
            "375/375 [==============================] - 1s 3ms/step - loss: 0.2996 - accuracy: 0.9165 - val_loss: 0.2908 - val_accuracy: 0.9189\n",
            "Epoch 88/100\n",
            "375/375 [==============================] - 1s 3ms/step - loss: 0.2993 - accuracy: 0.9164 - val_loss: 0.2905 - val_accuracy: 0.9195\n",
            "Epoch 89/100\n",
            "375/375 [==============================] - 1s 3ms/step - loss: 0.2989 - accuracy: 0.9168 - val_loss: 0.2902 - val_accuracy: 0.9193\n",
            "Epoch 90/100\n",
            "375/375 [==============================] - 1s 3ms/step - loss: 0.2985 - accuracy: 0.9168 - val_loss: 0.2900 - val_accuracy: 0.9193\n",
            "Epoch 91/100\n",
            "375/375 [==============================] - 1s 3ms/step - loss: 0.2981 - accuracy: 0.9169 - val_loss: 0.2897 - val_accuracy: 0.9193\n",
            "Epoch 92/100\n",
            "375/375 [==============================] - 1s 4ms/step - loss: 0.2978 - accuracy: 0.9167 - val_loss: 0.2895 - val_accuracy: 0.9195\n",
            "Epoch 93/100\n",
            "375/375 [==============================] - 2s 4ms/step - loss: 0.2974 - accuracy: 0.9171 - val_loss: 0.2892 - val_accuracy: 0.9197\n",
            "Epoch 94/100\n",
            "375/375 [==============================] - 1s 4ms/step - loss: 0.2971 - accuracy: 0.9171 - val_loss: 0.2890 - val_accuracy: 0.9199\n",
            "Epoch 95/100\n",
            "375/375 [==============================] - 1s 3ms/step - loss: 0.2967 - accuracy: 0.9173 - val_loss: 0.2887 - val_accuracy: 0.9198\n",
            "Epoch 96/100\n",
            "375/375 [==============================] - 1s 3ms/step - loss: 0.2964 - accuracy: 0.9171 - val_loss: 0.2886 - val_accuracy: 0.9203\n",
            "Epoch 97/100\n",
            "375/375 [==============================] - 1s 3ms/step - loss: 0.2961 - accuracy: 0.9172 - val_loss: 0.2882 - val_accuracy: 0.9202\n",
            "Epoch 98/100\n",
            "375/375 [==============================] - 1s 3ms/step - loss: 0.2957 - accuracy: 0.9176 - val_loss: 0.2879 - val_accuracy: 0.9200\n",
            "Epoch 99/100\n",
            "375/375 [==============================] - 1s 3ms/step - loss: 0.2954 - accuracy: 0.9176 - val_loss: 0.2878 - val_accuracy: 0.9202\n",
            "Epoch 100/100\n",
            "375/375 [==============================] - 1s 3ms/step - loss: 0.2951 - accuracy: 0.9176 - val_loss: 0.2876 - val_accuracy: 0.9202\n"
          ]
        },
        {
          "output_type": "execute_result",
          "data": {
            "text/plain": [
              "<keras.callbacks.History at 0x7f06ceda79a0>"
            ]
          },
          "metadata": {},
          "execution_count": 7
        }
      ]
    },
    {
      "cell_type": "code",
      "source": [
        "#evaluate the model\n",
        "test_loss, test_acc = model.evaluate(X_test, y_test)\n",
        "print('Test accuracy:', test_acc)"
      ],
      "metadata": {
        "colab": {
          "base_uri": "https://localhost:8080/"
        },
        "id": "CdE7fFBJrDtc",
        "outputId": "7f9f2624-965b-40f4-9070-d07e95877627"
      },
      "execution_count": 8,
      "outputs": [
        {
          "output_type": "stream",
          "name": "stdout",
          "text": [
            "313/313 [==============================] - 1s 3ms/step - loss: 0.2885 - accuracy: 0.9204\n",
            "Test accuracy: 0.9204000234603882\n"
          ]
        }
      ]
    },
    {
      "cell_type": "code",
      "source": [],
      "metadata": {
        "id": "4hz5fSn2sAMa"
      },
      "execution_count": null,
      "outputs": []
    }
  ]
}