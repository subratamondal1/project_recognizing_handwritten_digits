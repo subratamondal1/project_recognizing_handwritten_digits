{
  "nbformat": 4,
  "nbformat_minor": 0,
  "metadata": {
    "colab": {
      "provenance": [],
      "authorship_tag": "ABX9TyMrhudARws4ssipLEConEiI",
      "include_colab_link": true
    },
    "kernelspec": {
      "name": "python3",
      "display_name": "Python 3"
    },
    "language_info": {
      "name": "python"
    }
  },
  "cells": [
    {
      "cell_type": "markdown",
      "metadata": {
        "id": "view-in-github",
        "colab_type": "text"
      },
      "source": [
        "<a href=\"https://colab.research.google.com/github/subratamondal1/project_recognizing_handwritten_digits/blob/main/recognizing_handwritten_digits.ipynb\" target=\"_parent\"><img src=\"https://colab.research.google.com/assets/colab-badge.svg\" alt=\"Open In Colab\"/></a>"
      ]
    },
    {
      "cell_type": "markdown",
      "source": [
        "# 📚 Project -- Recognizing Handwritten Digits\n",
        "\n",
        "## Introduction\n",
        "We will build a Neural Network that can recognize handwritten numbers. To achieve this goal, we use **MNIST**, a database of handwritten digits made up of a training set of **60,000** examples, and a test set of 10,000 examples. The training examples are annotated by humans with the correct answer. For instance, if the handwritten digit is the number “3,” then 3 is simply the label associated with that example.\n",
        "* **`Supervised Learning ---`** a type of machine learning that uses labeled data to train a model that can classify data or predict outcomes.\n",
        "* Each MNIST image is in **grayscale** and consists of **28 x 28** pixels."
      ],
      "metadata": {
        "id": "dQpH0QjmIP8w"
      }
    },
    {
      "cell_type": "markdown",
      "source": [
        "## Defining a Simple Neural Network\n",
        "We start with a very simple neural network and then progressively improve it.\n",
        "\n",
        "### Import Libraries"
      ],
      "metadata": {
        "id": "3lUKb5rIJOpG"
      }
    },
    {
      "cell_type": "code",
      "execution_count": 1,
      "metadata": {
        "id": "9AR2jtGtIH4V"
      },
      "outputs": [],
      "source": [
        "import numpy as np\n",
        "import tensorflow as tf\n",
        "from tensorflow import keras\n",
        "import matplotlib.pyplot as plt\n",
        "from PIL import Image"
      ]
    },
    {
      "cell_type": "markdown",
      "source": [
        "### Import Dataset"
      ],
      "metadata": {
        "id": "gEbHo6RYfq20"
      }
    },
    {
      "cell_type": "code",
      "source": [
        "mnist = keras.datasets.mnist\n",
        "(X_train, y_train), (X_test, y_test) = mnist.load_data()\n",
        "print(f\"Training Data: {X_train.shape}\")\n",
        "print(f\"Testing Data: {X_test.shape}\")"
      ],
      "metadata": {
        "colab": {
          "base_uri": "https://localhost:8080/"
        },
        "id": "RpsMwIYYfqGQ",
        "outputId": "bfa00f37-6d1a-478e-8c61-1964f28e441f"
      },
      "execution_count": 2,
      "outputs": [
        {
          "output_type": "stream",
          "name": "stdout",
          "text": [
            "Downloading data from https://storage.googleapis.com/tensorflow/tf-keras-datasets/mnist.npz\n",
            "11490434/11490434 [==============================] - 0s 0us/step\n",
            "Training Data: (60000, 28, 28)\n",
            "Testing Data: (10000, 28, 28)\n"
          ]
        }
      ]
    },
    {
      "cell_type": "code",
      "source": [],
      "metadata": {
        "id": "_MEWB9hPnFbo"
      },
      "execution_count": null,
      "outputs": []
    },
    {
      "cell_type": "markdown",
      "source": [
        "### Display Data"
      ],
      "metadata": {
        "id": "teQmcoAZnHTy"
      }
    },
    {
      "cell_type": "code",
      "source": [
        "fig, axs = plt.subplots(2, 2, sharey=True, sharex=True)\n",
        "axs[0,0].imshow(X_train[44])\n",
        "axs[0,0].set_title(y_train[44])\n",
        "\n",
        "axs[0,1].imshow(X_train[55])\n",
        "axs[0,1].set_title(y_train[55])\n",
        "\n",
        "axs[1,0].imshow(X_train[66])\n",
        "axs[1,0].set_title(y_train[66])\n",
        "\n",
        "axs[1,1].imshow(X_train[77])\n",
        "axs[1,1].set_title(y_train[77])"
      ],
      "metadata": {
        "colab": {
          "base_uri": "https://localhost:8080/",
          "height": 470
        },
        "id": "gOv79wlYiMtd",
        "outputId": "7e710c52-be6a-4512-ce0c-0b0b63f91f60"
      },
      "execution_count": 3,
      "outputs": [
        {
          "output_type": "execute_result",
          "data": {
            "text/plain": [
              "Text(0.5, 1.0, '1')"
            ]
          },
          "metadata": {},
          "execution_count": 3
        },
        {
          "output_type": "display_data",
          "data": {
            "text/plain": [
              "<Figure size 640x480 with 4 Axes>"
            ],
            "image/png": "[encoded data removed]"
          },
          "metadata": {}
        }
      ]
    },
    {
      "cell_type": "code",
      "source": [
        "# Network and Train\n",
        "EPOCHS = 100\n",
        "BATCH_SIZE = 128\n",
        "VERBOSE = 1\n",
        "NB_CLASSES = 10 # number of outputs = number of digits\n",
        "N_HIDDEN = 128\n",
        "VALIDATION_SPLIT = 0.2 # how much TRAIN is reserved for VALIDATION\n",
        "\n",
        "# X_train is 60000 rows of 28x28 values; we  --> reshape it to 60000 x 784.\n",
        "RESHAPED = 784 # 28x28 = 784\n",
        "# the reshaped DATA will have a shape of (60000, 784), where each row is a vector representation of an image.\n",
        "X_train = X_train.reshape(X_train.shape[0], RESHAPED)\n",
        "X_test = X_test.reshape(X_test.shape[0], RESHAPED)\n",
        "X_train = X_train.astype('float32')\n",
        "X_test = X_test.astype('float32')\n",
        "\n",
        "# Normalize inputs in range [0,1]\n",
        "X_train /= 255\n",
        "X_test /= 255\n",
        "\n",
        "print(X_train.shape[0], \"Train Samples\")\n",
        "print(X_test.shape[0], \"Test Samples\")\n",
        "\n",
        "# One Hot representation of the data\n",
        "y_train = keras.utils.to_categorical(y_train, NB_CLASSES)\n",
        "y_test = keras.utils.to_categorical(y_test, NB_CLASSES)"
      ],
      "metadata": {
        "colab": {
          "base_uri": "https://localhost:8080/"
        },
        "id": "CIcgG5cKKNtg",
        "outputId": "84ef6710-9af2-4ea3-faa1-c40058a19ecf"
      },
      "execution_count": 4,
      "outputs": [
        {
          "output_type": "stream",
          "name": "stdout",
          "text": [
            "60000 Train Samples\n",
            "10000 Test Samples\n"
          ]
        }
      ]
    },
    {
      "cell_type": "code",
      "source": [
        "# Build the model.\n",
        "model = tf.keras.models.Sequential()\n",
        "model.add(\n",
        "    keras.layers.Dense(NB_CLASSES,\n",
        "    input_shape=(RESHAPED,),\n",
        "    name='dense_layer',\n",
        "    activation='softmax'))"
      ],
      "metadata": {
        "id": "rai63AK6dsAb"
      },
      "execution_count": 5,
      "outputs": []
    },
    {
      "cell_type": "code",
      "source": [
        "# Compiling the model.\n",
        "model.compile(optimizer='SGD',\n",
        "              loss='categorical_crossentropy',\n",
        "              metrics=['accuracy'])"
      ],
      "metadata": {
        "id": "it2L84v0ePt9"
      },
      "execution_count": 6,
      "outputs": []
    },
    {
      "cell_type": "code",
      "source": [
        "# Training the model.\n",
        "model.fit(X_train, y_train,\n",
        "          batch_size=BATCH_SIZE, epochs=EPOCHS,\n",
        "          verbose=VERBOSE, validation_split=VALIDATION_SPLIT)"
      ],
      "metadata": {
        "colab": {
          "base_uri": "https://localhost:8080/"
        },
        "id": "o7mQ3-S8nvk1",
        "outputId": "6c007233-c8e0-47f4-bdf3-906e552e8cf0"
      },
      "execution_count": 7,
      "outputs": [
        {
          "output_type": "stream",
          "name": "stdout",
          "text": [
            "Epoch 1/100\n",
            "375/375 [==============================] - 2s 4ms/step - loss: 1.3741 - accuracy: 0.6682 - val_loss: 0.8897 - val_accuracy: 0.8328\n",
            "Epoch 2/100\n",
            "375/375 [==============================] - 1s 3ms/step - loss: 0.7905 - accuracy: 0.8301 - val_loss: 0.6524 - val_accuracy: 0.8622\n",
            "Epoch 3/100\n",
            "375/375 [==============================] - 1s 3ms/step - loss: 0.6407 - accuracy: 0.8518 - val_loss: 0.5573 - val_accuracy: 0.8747\n",
            "Epoch 4/100\n",
            "375/375 [==============================] - 2s 4ms/step - loss: 0.5685 - accuracy: 0.8624 - val_loss: 0.5048 - val_accuracy: 0.8793\n",
            "Epoch 5/100\n",
            "375/375 [==============================] - 1s 4ms/step - loss: 0.5247 - accuracy: 0.8690 - val_loss: 0.4712 - val_accuracy: 0.8845\n",
            "Epoch 6/100\n",
            "375/375 [==============================] - 1s 3ms/step - loss: 0.4946 - accuracy: 0.8738 - val_loss: 0.4472 - val_accuracy: 0.8888\n",
            "Epoch 7/100\n",
            "375/375 [==============================] - 1s 3ms/step - loss: 0.4725 - accuracy: 0.8778 - val_loss: 0.4292 - val_accuracy: 0.8919\n",
            "Epoch 8/100\n",
            "375/375 [==============================] - 1s 3ms/step - loss: 0.4553 - accuracy: 0.8809 - val_loss: 0.4152 - val_accuracy: 0.8954\n",
            "Epoch 9/100\n",
            "375/375 [==============================] - 1s 3ms/step - loss: 0.4414 - accuracy: 0.8838 - val_loss: 0.4038 - val_accuracy: 0.8972\n",
            "Epoch 10/100\n",
            "375/375 [==============================] - 1s 3ms/step - loss: 0.4299 - accuracy: 0.8863 - val_loss: 0.3944 - val_accuracy: 0.8997\n",
            "Epoch 11/100\n",
            "375/375 [==============================] - 1s 3ms/step - loss: 0.4203 - accuracy: 0.8882 - val_loss: 0.3865 - val_accuracy: 0.9010\n",
            "Epoch 12/100\n",
            "375/375 [==============================] - 1s 3ms/step - loss: 0.4119 - accuracy: 0.8892 - val_loss: 0.3797 - val_accuracy: 0.9020\n",
            "Epoch 13/100\n",
            "375/375 [==============================] - 1s 3ms/step - loss: 0.4046 - accuracy: 0.8909 - val_loss: 0.3737 - val_accuracy: 0.9032\n",
            "Epoch 14/100\n",
            "375/375 [==============================] - 1s 3ms/step - loss: 0.3982 - accuracy: 0.8919 - val_loss: 0.3684 - val_accuracy: 0.9039\n",
            "Epoch 15/100\n",
            "375/375 [==============================] - 2s 4ms/step - loss: 0.3925 - accuracy: 0.8932 - val_loss: 0.3637 - val_accuracy: 0.9044\n",
            "Epoch 16/100\n",
            "375/375 [==============================] - 1s 3ms/step - loss: 0.3873 - accuracy: 0.8941 - val_loss: 0.3596 - val_accuracy: 0.9051\n",
            "Epoch 17/100\n",
            "375/375 [==============================] - 1s 3ms/step - loss: 0.3827 - accuracy: 0.8955 - val_loss: 0.3557 - val_accuracy: 0.9067\n",
            "Epoch 18/100\n",
            "375/375 [==============================] - 1s 3ms/step - loss: 0.3785 - accuracy: 0.8963 - val_loss: 0.3523 - val_accuracy: 0.9067\n",
            "Epoch 19/100\n",
            "375/375 [==============================] - 1s 3ms/step - loss: 0.3746 - accuracy: 0.8974 - val_loss: 0.3490 - val_accuracy: 0.9080\n",
            "Epoch 20/100\n",
            "375/375 [==============================] - 1s 3ms/step - loss: 0.3710 - accuracy: 0.8983 - val_loss: 0.3462 - val_accuracy: 0.9078\n",
            "Epoch 21/100\n",
            "375/375 [==============================] - 1s 3ms/step - loss: 0.3678 - accuracy: 0.8992 - val_loss: 0.3436 - val_accuracy: 0.9093\n",
            "Epoch 22/100\n",
            "375/375 [==============================] - 1s 3ms/step - loss: 0.3647 - accuracy: 0.8995 - val_loss: 0.3410 - val_accuracy: 0.9097\n",
            "Epoch 23/100\n",
            "375/375 [==============================] - 1s 3ms/step - loss: 0.3618 - accuracy: 0.9003 - val_loss: 0.3386 - val_accuracy: 0.9098\n",
            "Epoch 24/100\n",
            "375/375 [==============================] - 1s 3ms/step - loss: 0.3591 - accuracy: 0.9008 - val_loss: 0.3365 - val_accuracy: 0.9106\n",
            "Epoch 25/100\n",
            "375/375 [==============================] - 1s 4ms/step - loss: 0.3566 - accuracy: 0.9016 - val_loss: 0.3346 - val_accuracy: 0.9111\n",
            "Epoch 26/100\n",
            "375/375 [==============================] - 2s 5ms/step - loss: 0.3542 - accuracy: 0.9020 - val_loss: 0.3326 - val_accuracy: 0.9111\n",
            "Epoch 27/100\n",
            "375/375 [==============================] - 1s 3ms/step - loss: 0.3520 - accuracy: 0.9026 - val_loss: 0.3309 - val_accuracy: 0.9120\n",
            "Epoch 28/100\n",
            "375/375 [==============================] - 1s 3ms/step - loss: 0.3499 - accuracy: 0.9031 - val_loss: 0.3291 - val_accuracy: 0.9119\n",
            "Epoch 29/100\n",
            "375/375 [==============================] - 1s 3ms/step - loss: 0.3479 - accuracy: 0.9034 - val_loss: 0.3276 - val_accuracy: 0.9119\n",
            "Epoch 30/100\n",
            "375/375 [==============================] - 1s 3ms/step - loss: 0.3460 - accuracy: 0.9038 - val_loss: 0.3261 - val_accuracy: 0.9122\n",
            "Epoch 31/100\n",
            "375/375 [==============================] - 1s 3ms/step - loss: 0.3442 - accuracy: 0.9044 - val_loss: 0.3245 - val_accuracy: 0.9129\n",
            "Epoch 32/100\n",
            "375/375 [==============================] - 1s 3ms/step - loss: 0.3425 - accuracy: 0.9046 - val_loss: 0.3232 - val_accuracy: 0.9128\n",
            "Epoch 33/100\n",
            "375/375 [==============================] - 1s 3ms/step - loss: 0.3408 - accuracy: 0.9052 - val_loss: 0.3219 - val_accuracy: 0.9128\n",
            "Epoch 34/100\n",
            "375/375 [==============================] - 1s 3ms/step - loss: 0.3393 - accuracy: 0.9057 - val_loss: 0.3206 - val_accuracy: 0.9131\n",
            "Epoch 35/100\n",
            "375/375 [==============================] - 1s 3ms/step - loss: 0.3378 - accuracy: 0.9060 - val_loss: 0.3194 - val_accuracy: 0.9128\n",
            "Epoch 36/100\n",
            "375/375 [==============================] - 1s 3ms/step - loss: 0.3363 - accuracy: 0.9064 - val_loss: 0.3183 - val_accuracy: 0.9128\n",
            "Epoch 37/100\n",
            "375/375 [==============================] - 2s 4ms/step - loss: 0.3349 - accuracy: 0.9065 - val_loss: 0.3173 - val_accuracy: 0.9130\n",
            "Epoch 38/100\n",
            "375/375 [==============================] - 1s 4ms/step - loss: 0.3336 - accuracy: 0.9069 - val_loss: 0.3163 - val_accuracy: 0.9136\n",
            "Epoch 39/100\n",
            "375/375 [==============================] - 1s 3ms/step - loss: 0.3323 - accuracy: 0.9075 - val_loss: 0.3151 - val_accuracy: 0.9135\n",
            "Epoch 40/100\n",
            "375/375 [==============================] - 1s 3ms/step - loss: 0.3311 - accuracy: 0.9078 - val_loss: 0.3143 - val_accuracy: 0.9139\n",
            "Epoch 41/100\n",
            "375/375 [==============================] - 1s 3ms/step - loss: 0.3299 - accuracy: 0.9080 - val_loss: 0.3133 - val_accuracy: 0.9139\n",
            "Epoch 42/100\n",
            "375/375 [==============================] - 1s 3ms/step - loss: 0.3288 - accuracy: 0.9085 - val_loss: 0.3124 - val_accuracy: 0.9140\n",
            "Epoch 43/100\n",
            "375/375 [==============================] - 1s 3ms/step - loss: 0.3276 - accuracy: 0.9088 - val_loss: 0.3117 - val_accuracy: 0.9148\n",
            "Epoch 44/100\n",
            "375/375 [==============================] - 1s 3ms/step - loss: 0.3266 - accuracy: 0.9089 - val_loss: 0.3107 - val_accuracy: 0.9145\n",
            "Epoch 45/100\n",
            "375/375 [==============================] - 1s 3ms/step - loss: 0.3256 - accuracy: 0.9094 - val_loss: 0.3099 - val_accuracy: 0.9149\n",
            "Epoch 46/100\n",
            "375/375 [==============================] - 1s 3ms/step - loss: 0.3246 - accuracy: 0.9096 - val_loss: 0.3092 - val_accuracy: 0.9153\n",
            "Epoch 47/100\n",
            "375/375 [==============================] - 1s 3ms/step - loss: 0.3236 - accuracy: 0.9096 - val_loss: 0.3084 - val_accuracy: 0.9155\n",
            "Epoch 48/100\n",
            "375/375 [==============================] - 2s 4ms/step - loss: 0.3227 - accuracy: 0.9101 - val_loss: 0.3078 - val_accuracy: 0.9162\n",
            "Epoch 49/100\n",
            "375/375 [==============================] - 1s 4ms/step - loss: 0.3218 - accuracy: 0.9104 - val_loss: 0.3070 - val_accuracy: 0.9162\n",
            "Epoch 50/100\n",
            "375/375 [==============================] - 1s 3ms/step - loss: 0.3209 - accuracy: 0.9103 - val_loss: 0.3063 - val_accuracy: 0.9162\n",
            "Epoch 51/100\n",
            "375/375 [==============================] - 1s 3ms/step - loss: 0.3200 - accuracy: 0.9107 - val_loss: 0.3059 - val_accuracy: 0.9159\n",
            "Epoch 52/100\n",
            "375/375 [==============================] - 1s 3ms/step - loss: 0.3192 - accuracy: 0.9110 - val_loss: 0.3050 - val_accuracy: 0.9162\n",
            "Epoch 53/100\n",
            "375/375 [==============================] - 1s 3ms/step - loss: 0.3184 - accuracy: 0.9111 - val_loss: 0.3044 - val_accuracy: 0.9161\n",
            "Epoch 54/100\n",
            "375/375 [==============================] - 1s 3ms/step - loss: 0.3176 - accuracy: 0.9115 - val_loss: 0.3038 - val_accuracy: 0.9160\n",
            "Epoch 55/100\n",
            "375/375 [==============================] - 1s 3ms/step - loss: 0.3169 - accuracy: 0.9115 - val_loss: 0.3032 - val_accuracy: 0.9170\n",
            "Epoch 56/100\n",
            "375/375 [==============================] - 1s 3ms/step - loss: 0.3161 - accuracy: 0.9114 - val_loss: 0.3027 - val_accuracy: 0.9166\n",
            "Epoch 57/100\n",
            "375/375 [==============================] - 1s 3ms/step - loss: 0.3154 - accuracy: 0.9120 - val_loss: 0.3021 - val_accuracy: 0.9171\n",
            "Epoch 58/100\n",
            "375/375 [==============================] - 1s 3ms/step - loss: 0.3147 - accuracy: 0.9120 - val_loss: 0.3016 - val_accuracy: 0.9166\n",
            "Epoch 59/100\n",
            "375/375 [==============================] - 2s 4ms/step - loss: 0.3140 - accuracy: 0.9126 - val_loss: 0.3010 - val_accuracy: 0.9172\n",
            "Epoch 60/100\n",
            "375/375 [==============================] - 2s 4ms/step - loss: 0.3133 - accuracy: 0.9127 - val_loss: 0.3005 - val_accuracy: 0.9172\n",
            "Epoch 61/100\n",
            "375/375 [==============================] - 1s 3ms/step - loss: 0.3127 - accuracy: 0.9127 - val_loss: 0.3001 - val_accuracy: 0.9174\n",
            "Epoch 62/100\n",
            "375/375 [==============================] - 1s 3ms/step - loss: 0.3120 - accuracy: 0.9130 - val_loss: 0.2995 - val_accuracy: 0.9173\n",
            "Epoch 63/100\n",
            "375/375 [==============================] - 2s 5ms/step - loss: 0.3114 - accuracy: 0.9131 - val_loss: 0.2991 - val_accuracy: 0.9170\n",
            "Epoch 64/100\n",
            "375/375 [==============================] - 2s 6ms/step - loss: 0.3108 - accuracy: 0.9136 - val_loss: 0.2987 - val_accuracy: 0.9175\n",
            "Epoch 65/100\n",
            "375/375 [==============================] - 2s 4ms/step - loss: 0.3102 - accuracy: 0.9135 - val_loss: 0.2982 - val_accuracy: 0.9175\n",
            "Epoch 66/100\n",
            "375/375 [==============================] - 1s 3ms/step - loss: 0.3096 - accuracy: 0.9140 - val_loss: 0.2978 - val_accuracy: 0.9177\n",
            "Epoch 67/100\n",
            "375/375 [==============================] - 2s 4ms/step - loss: 0.3090 - accuracy: 0.9141 - val_loss: 0.2973 - val_accuracy: 0.9181\n",
            "Epoch 68/100\n",
            "375/375 [==============================] - 2s 4ms/step - loss: 0.3085 - accuracy: 0.9143 - val_loss: 0.2969 - val_accuracy: 0.9183\n",
            "Epoch 69/100\n",
            "375/375 [==============================] - 1s 3ms/step - loss: 0.3079 - accuracy: 0.9146 - val_loss: 0.2966 - val_accuracy: 0.9182\n",
            "Epoch 70/100\n",
            "375/375 [==============================] - 1s 3ms/step - loss: 0.3074 - accuracy: 0.9147 - val_loss: 0.2961 - val_accuracy: 0.9183\n",
            "Epoch 71/100\n",
            "375/375 [==============================] - 1s 3ms/step - loss: 0.3069 - accuracy: 0.9146 - val_loss: 0.2956 - val_accuracy: 0.9183\n",
            "Epoch 72/100\n",
            "375/375 [==============================] - 1s 3ms/step - loss: 0.3064 - accuracy: 0.9147 - val_loss: 0.2953 - val_accuracy: 0.9193\n",
            "Epoch 73/100\n",
            "375/375 [==============================] - 1s 3ms/step - loss: 0.3058 - accuracy: 0.9151 - val_loss: 0.2950 - val_accuracy: 0.9184\n",
            "Epoch 74/100\n",
            "375/375 [==============================] - 1s 3ms/step - loss: 0.3054 - accuracy: 0.9153 - val_loss: 0.2946 - val_accuracy: 0.9189\n",
            "Epoch 75/100\n",
            "375/375 [==============================] - 1s 3ms/step - loss: 0.3049 - accuracy: 0.9153 - val_loss: 0.2943 - val_accuracy: 0.9187\n",
            "Epoch 76/100\n",
            "375/375 [==============================] - 1s 3ms/step - loss: 0.3044 - accuracy: 0.9154 - val_loss: 0.2940 - val_accuracy: 0.9190\n",
            "Epoch 77/100\n",
            "375/375 [==============================] - 1s 3ms/step - loss: 0.3039 - accuracy: 0.9156 - val_loss: 0.2936 - val_accuracy: 0.9184\n",
            "Epoch 78/100\n",
            "375/375 [==============================] - 2s 5ms/step - loss: 0.3035 - accuracy: 0.9154 - val_loss: 0.2932 - val_accuracy: 0.9193\n",
            "Epoch 79/100\n",
            "375/375 [==============================] - 2s 4ms/step - loss: 0.3030 - accuracy: 0.9159 - val_loss: 0.2929 - val_accuracy: 0.9193\n",
            "Epoch 80/100\n",
            "375/375 [==============================] - 1s 3ms/step - loss: 0.3026 - accuracy: 0.9158 - val_loss: 0.2926 - val_accuracy: 0.9193\n",
            "Epoch 81/100\n",
            "375/375 [==============================] - 1s 3ms/step - loss: 0.3021 - accuracy: 0.9157 - val_loss: 0.2923 - val_accuracy: 0.9192\n",
            "Epoch 82/100\n",
            "375/375 [==============================] - 1s 3ms/step - loss: 0.3017 - accuracy: 0.9160 - val_loss: 0.2920 - val_accuracy: 0.9195\n",
            "Epoch 83/100\n",
            "375/375 [==============================] - 1s 3ms/step - loss: 0.3013 - accuracy: 0.9161 - val_loss: 0.2917 - val_accuracy: 0.9195\n",
            "Epoch 84/100\n",
            "375/375 [==============================] - 1s 3ms/step - loss: 0.3009 - accuracy: 0.9163 - val_loss: 0.2914 - val_accuracy: 0.9194\n",
            "Epoch 85/100\n",
            "375/375 [==============================] - 1s 3ms/step - loss: 0.3005 - accuracy: 0.9166 - val_loss: 0.2910 - val_accuracy: 0.9197\n",
            "Epoch 86/100\n",
            "375/375 [==============================] - 1s 3ms/step - loss: 0.3001 - accuracy: 0.9163 - val_loss: 0.2907 - val_accuracy: 0.9195\n",
            "Epoch 87/100\n",
            "375/375 [==============================] - 1s 3ms/step - loss: 0.2997 - accuracy: 0.9163 - val_loss: 0.2905 - val_accuracy: 0.9197\n",
            "Epoch 88/100\n",
            "375/375 [==============================] - 1s 3ms/step - loss: 0.2993 - accuracy: 0.9165 - val_loss: 0.2902 - val_accuracy: 0.9194\n",
            "Epoch 89/100\n",
            "375/375 [==============================] - 2s 5ms/step - loss: 0.2989 - accuracy: 0.9166 - val_loss: 0.2899 - val_accuracy: 0.9193\n",
            "Epoch 90/100\n",
            "375/375 [==============================] - 1s 3ms/step - loss: 0.2986 - accuracy: 0.9167 - val_loss: 0.2897 - val_accuracy: 0.9201\n",
            "Epoch 91/100\n",
            "375/375 [==============================] - 1s 3ms/step - loss: 0.2982 - accuracy: 0.9168 - val_loss: 0.2894 - val_accuracy: 0.9196\n",
            "Epoch 92/100\n",
            "375/375 [==============================] - 1s 3ms/step - loss: 0.2978 - accuracy: 0.9175 - val_loss: 0.2893 - val_accuracy: 0.9199\n",
            "Epoch 93/100\n",
            "375/375 [==============================] - 1s 3ms/step - loss: 0.2975 - accuracy: 0.9170 - val_loss: 0.2889 - val_accuracy: 0.9199\n",
            "Epoch 94/100\n",
            "375/375 [==============================] - 1s 3ms/step - loss: 0.2971 - accuracy: 0.9171 - val_loss: 0.2887 - val_accuracy: 0.9197\n",
            "Epoch 95/100\n",
            "375/375 [==============================] - 1s 3ms/step - loss: 0.2968 - accuracy: 0.9173 - val_loss: 0.2884 - val_accuracy: 0.9200\n",
            "Epoch 96/100\n",
            "375/375 [==============================] - 1s 3ms/step - loss: 0.2964 - accuracy: 0.9174 - val_loss: 0.2882 - val_accuracy: 0.9197\n",
            "Epoch 97/100\n",
            "375/375 [==============================] - 1s 3ms/step - loss: 0.2961 - accuracy: 0.9175 - val_loss: 0.2880 - val_accuracy: 0.9202\n",
            "Epoch 98/100\n",
            "375/375 [==============================] - 1s 3ms/step - loss: 0.2958 - accuracy: 0.9174 - val_loss: 0.2878 - val_accuracy: 0.9204\n",
            "Epoch 99/100\n",
            "375/375 [==============================] - 2s 4ms/step - loss: 0.2955 - accuracy: 0.9176 - val_loss: 0.2875 - val_accuracy: 0.9202\n",
            "Epoch 100/100\n",
            "375/375 [==============================] - 2s 4ms/step - loss: 0.2951 - accuracy: 0.9178 - val_loss: 0.2873 - val_accuracy: 0.9207\n"
          ]
        },
        {
          "output_type": "execute_result",
          "data": {
            "text/plain": [
              "<keras.callbacks.History at 0x797e91a7ba00>"
            ]
          },
          "metadata": {},
          "execution_count": 7
        }
      ]
    },
    {
      "cell_type": "code",
      "source": [
        "#evaluate the model\n",
        "test_loss, test_acc = model.evaluate(X_test, y_test)\n",
        "print('Test accuracy:', test_acc)"
      ],
      "metadata": {
        "colab": {
          "base_uri": "https://localhost:8080/"
        },
        "id": "CdE7fFBJrDtc",
        "outputId": "a120a61a-e88a-426f-864c-4227451914d1"
      },
      "execution_count": 10,
      "outputs": [
        {
          "output_type": "stream",
          "name": "stdout",
          "text": [
            "313/313 [==============================] - 1s 2ms/step - loss: 0.2879 - accuracy: 0.9208\n",
            "Test accuracy: 0.920799970626831\n"
          ]
        }
      ]
    },
    {
      "cell_type": "markdown",
      "source": [
        "## Improving the simple net in TensorFlow with hidden layers"
      ],
      "metadata": {
        "id": "pbqPCiYnSwam"
      }
    },
    {
      "cell_type": "code",
      "source": [
        "# Network and training.\n",
        "EPOCHS = 100\n",
        "BATCH_SIZE = 128\n",
        "VERBOSE = 1\n",
        "NB_CLASSES = 10 # number of outputs = number of digits N_HIDDEN = 128\n",
        "VALIDATION_SPLIT = 0.2 # how much TRAIN is reserved for VALIDATION"
      ],
      "metadata": {
        "id": "4hz5fSn2sAMa"
      },
      "execution_count": 36,
      "outputs": []
    },
    {
      "cell_type": "code",
      "source": [
        "# Loading MNIST dataset.\n",
        "# Labels have one-hot representation.\n",
        "mnist = keras.datasets.mnist\n",
        "(X_train, y_train), (X_test, y_test) = mnist.load_data()\n",
        "\n",
        "# X_train is 60000 rows of 28x28 values; we reshape it to 60000 x 784.\n",
        "RESHAPED = 784\n",
        "\n",
        "X_train = X_train.reshape(60000, RESHAPED)\n",
        "X_test = X_test.reshape(10000, RESHAPED)\n",
        "X_train = X_train.astype('float32')\n",
        "X_test = X_test.astype('float32')\n",
        "\n",
        "# Normalize inputs to be within in [0, 1].\n",
        "X_train /= 255.0\n",
        "X_test /= 255.0\n",
        "print(X_train.shape[0], 'train samples')\n",
        "print(X_test.shape[0], 'test samples')\n",
        "\n",
        "# Labels have one-hot representation.\n",
        "y_train = tf.keras.utils.to_categorical(y_train, NB_CLASSES)\n",
        "y_test = tf.keras.utils.to_categorical(y_test, NB_CLASSES)"
      ],
      "metadata": {
        "colab": {
          "base_uri": "https://localhost:8080/"
        },
        "id": "5kdNSgTsSJp0",
        "outputId": "c1241913-dcc5-4bba-d447-a07296789e21"
      },
      "execution_count": 37,
      "outputs": [
        {
          "output_type": "stream",
          "name": "stdout",
          "text": [
            "60000 train samples\n",
            "10000 test samples\n"
          ]
        }
      ]
    },
    {
      "cell_type": "code",
      "source": [
        "# Build the model.\n",
        "model = tf.keras.models.Sequential()\n",
        "\n",
        "model.add(\n",
        "    keras.layers.Dense(N_HIDDEN,\n",
        "    input_shape=(RESHAPED,),\n",
        "    name='dense_layer',\n",
        "    activation='relu'))\n",
        "\n",
        "model.add(\n",
        "    keras.layers.Dense(N_HIDDEN,\n",
        "    name='dense_layer_2',\n",
        "    activation='relu'))\n",
        "\n",
        "model.add(\n",
        "    keras.layers.Dense(NB_CLASSES,\n",
        "    name='dense_layer_3',\n",
        "    activation='softmax'))\n",
        "\n",
        "# Summary of the model.\n",
        "model.summary()"
      ],
      "metadata": {
        "colab": {
          "base_uri": "https://localhost:8080/"
        },
        "id": "4MbPC-eZT_N6",
        "outputId": "f5e2ce80-afa5-492f-d734-ebd811da2b1d"
      },
      "execution_count": 38,
      "outputs": [
        {
          "output_type": "stream",
          "name": "stdout",
          "text": [
            "Model: \"sequential_8\"\n",
            "_________________________________________________________________\n",
            " Layer (type)                Output Shape              Param #   \n",
            "=================================================================\n",
            " dense_layer (Dense)         (None, 128)               100480    \n",
            "                                                                 \n",
            " dense_layer_2 (Dense)       (None, 128)               16512     \n",
            "                                                                 \n",
            " dense_layer_3 (Dense)       (None, 10)                1290      \n",
            "                                                                 \n",
            "=================================================================\n",
            "Total params: 118,282\n",
            "Trainable params: 118,282\n",
            "Non-trainable params: 0\n",
            "_________________________________________________________________\n"
          ]
        }
      ]
    },
    {
      "cell_type": "code",
      "source": [
        "# Compiling the model.\n",
        "model.compile(\n",
        "    optimizer='SGD',\n",
        "    loss='categorical_crossentropy',\n",
        "    metrics=['accuracy'])"
      ],
      "metadata": {
        "id": "TRdwozK2Uf-q"
      },
      "execution_count": 39,
      "outputs": []
    },
    {
      "cell_type": "code",
      "source": [
        "# Training the model.\n",
        "model.fit(\n",
        "    X_train, y_train,\n",
        "    batch_size=BATCH_SIZE, epochs=EPOCHS,\n",
        "    verbose=VERBOSE, validation_split=VALIDATION_SPLIT)"
      ],
      "metadata": {
        "colab": {
          "base_uri": "https://localhost:8080/"
        },
        "id": "7z4zDhjgVPA-",
        "outputId": "4eb0e1c7-db3b-404f-9ed9-28d6f9bf4556"
      },
      "execution_count": 40,
      "outputs": [
        {
          "output_type": "stream",
          "name": "stdout",
          "text": [
            "Epoch 1/100\n",
            "375/375 [==============================] - 3s 6ms/step - loss: 1.6015 - accuracy: 0.5949 - val_loss: 0.8129 - val_accuracy: 0.8443\n",
            "Epoch 2/100\n",
            "375/375 [==============================] - 2s 5ms/step - loss: 0.6191 - accuracy: 0.8538 - val_loss: 0.4573 - val_accuracy: 0.8832\n",
            "Epoch 3/100\n",
            "375/375 [==============================] - 2s 6ms/step - loss: 0.4395 - accuracy: 0.8829 - val_loss: 0.3740 - val_accuracy: 0.9001\n",
            "Epoch 4/100\n",
            "375/375 [==============================] - 3s 7ms/step - loss: 0.3772 - accuracy: 0.8958 - val_loss: 0.3344 - val_accuracy: 0.9067\n",
            "Epoch 5/100\n",
            "375/375 [==============================] - 3s 9ms/step - loss: 0.3428 - accuracy: 0.9035 - val_loss: 0.3105 - val_accuracy: 0.9123\n",
            "Epoch 6/100\n",
            "375/375 [==============================] - 2s 5ms/step - loss: 0.3192 - accuracy: 0.9100 - val_loss: 0.2928 - val_accuracy: 0.9162\n",
            "Epoch 7/100\n",
            "375/375 [==============================] - 2s 5ms/step - loss: 0.3010 - accuracy: 0.9147 - val_loss: 0.2794 - val_accuracy: 0.9208\n",
            "Epoch 8/100\n",
            "375/375 [==============================] - 2s 5ms/step - loss: 0.2862 - accuracy: 0.9194 - val_loss: 0.2673 - val_accuracy: 0.9244\n",
            "Epoch 9/100\n",
            "375/375 [==============================] - 2s 5ms/step - loss: 0.2737 - accuracy: 0.9231 - val_loss: 0.2561 - val_accuracy: 0.9279\n",
            "Epoch 10/100\n",
            "375/375 [==============================] - 2s 5ms/step - loss: 0.2624 - accuracy: 0.9260 - val_loss: 0.2471 - val_accuracy: 0.9298\n",
            "Epoch 11/100\n",
            "375/375 [==============================] - 3s 8ms/step - loss: 0.2527 - accuracy: 0.9288 - val_loss: 0.2390 - val_accuracy: 0.9317\n",
            "Epoch 12/100\n",
            "375/375 [==============================] - 2s 5ms/step - loss: 0.2435 - accuracy: 0.9306 - val_loss: 0.2315 - val_accuracy: 0.9336\n",
            "Epoch 13/100\n",
            "375/375 [==============================] - 2s 5ms/step - loss: 0.2352 - accuracy: 0.9335 - val_loss: 0.2254 - val_accuracy: 0.9364\n",
            "Epoch 14/100\n",
            "375/375 [==============================] - 2s 5ms/step - loss: 0.2277 - accuracy: 0.9358 - val_loss: 0.2191 - val_accuracy: 0.9382\n",
            "Epoch 15/100\n",
            "375/375 [==============================] - 2s 5ms/step - loss: 0.2206 - accuracy: 0.9380 - val_loss: 0.2128 - val_accuracy: 0.9416\n",
            "Epoch 16/100\n",
            "375/375 [==============================] - 2s 6ms/step - loss: 0.2138 - accuracy: 0.9396 - val_loss: 0.2089 - val_accuracy: 0.9410\n",
            "Epoch 17/100\n",
            "375/375 [==============================] - 3s 8ms/step - loss: 0.2075 - accuracy: 0.9416 - val_loss: 0.2016 - val_accuracy: 0.9435\n",
            "Epoch 18/100\n",
            "375/375 [==============================] - 2s 5ms/step - loss: 0.2017 - accuracy: 0.9438 - val_loss: 0.1973 - val_accuracy: 0.9447\n",
            "Epoch 19/100\n",
            "375/375 [==============================] - 2s 5ms/step - loss: 0.1961 - accuracy: 0.9449 - val_loss: 0.1935 - val_accuracy: 0.9463\n",
            "Epoch 20/100\n",
            "375/375 [==============================] - 2s 5ms/step - loss: 0.1906 - accuracy: 0.9455 - val_loss: 0.1894 - val_accuracy: 0.9468\n",
            "Epoch 21/100\n",
            "375/375 [==============================] - 2s 5ms/step - loss: 0.1857 - accuracy: 0.9472 - val_loss: 0.1838 - val_accuracy: 0.9492\n",
            "Epoch 22/100\n",
            "375/375 [==============================] - 2s 6ms/step - loss: 0.1807 - accuracy: 0.9488 - val_loss: 0.1801 - val_accuracy: 0.9503\n",
            "Epoch 23/100\n",
            "375/375 [==============================] - 3s 9ms/step - loss: 0.1763 - accuracy: 0.9498 - val_loss: 0.1765 - val_accuracy: 0.9508\n",
            "Epoch 24/100\n",
            "375/375 [==============================] - 2s 6ms/step - loss: 0.1720 - accuracy: 0.9515 - val_loss: 0.1729 - val_accuracy: 0.9522\n",
            "Epoch 25/100\n",
            "375/375 [==============================] - 3s 9ms/step - loss: 0.1678 - accuracy: 0.9526 - val_loss: 0.1708 - val_accuracy: 0.9526\n",
            "Epoch 26/100\n",
            "375/375 [==============================] - 2s 5ms/step - loss: 0.1638 - accuracy: 0.9535 - val_loss: 0.1667 - val_accuracy: 0.9539\n",
            "Epoch 27/100\n",
            "375/375 [==============================] - 2s 5ms/step - loss: 0.1600 - accuracy: 0.9542 - val_loss: 0.1642 - val_accuracy: 0.9537\n",
            "Epoch 28/100\n",
            "375/375 [==============================] - 3s 8ms/step - loss: 0.1564 - accuracy: 0.9555 - val_loss: 0.1606 - val_accuracy: 0.9550\n",
            "Epoch 29/100\n",
            "375/375 [==============================] - 2s 5ms/step - loss: 0.1527 - accuracy: 0.9565 - val_loss: 0.1587 - val_accuracy: 0.9557\n",
            "Epoch 30/100\n",
            "375/375 [==============================] - 2s 5ms/step - loss: 0.1496 - accuracy: 0.9574 - val_loss: 0.1551 - val_accuracy: 0.9570\n",
            "Epoch 31/100\n",
            "375/375 [==============================] - 2s 5ms/step - loss: 0.1464 - accuracy: 0.9584 - val_loss: 0.1535 - val_accuracy: 0.9580\n",
            "Epoch 32/100\n",
            "375/375 [==============================] - 2s 5ms/step - loss: 0.1433 - accuracy: 0.9594 - val_loss: 0.1514 - val_accuracy: 0.9579\n",
            "Epoch 33/100\n",
            "375/375 [==============================] - 2s 5ms/step - loss: 0.1401 - accuracy: 0.9603 - val_loss: 0.1486 - val_accuracy: 0.9583\n",
            "Epoch 34/100\n",
            "375/375 [==============================] - 3s 8ms/step - loss: 0.1375 - accuracy: 0.9609 - val_loss: 0.1470 - val_accuracy: 0.9590\n",
            "Epoch 35/100\n",
            "375/375 [==============================] - 2s 5ms/step - loss: 0.1347 - accuracy: 0.9616 - val_loss: 0.1451 - val_accuracy: 0.9590\n",
            "Epoch 36/100\n",
            "375/375 [==============================] - 2s 5ms/step - loss: 0.1322 - accuracy: 0.9622 - val_loss: 0.1427 - val_accuracy: 0.9603\n",
            "Epoch 37/100\n",
            "375/375 [==============================] - 2s 5ms/step - loss: 0.1296 - accuracy: 0.9636 - val_loss: 0.1415 - val_accuracy: 0.9604\n",
            "Epoch 38/100\n",
            "375/375 [==============================] - 2s 5ms/step - loss: 0.1271 - accuracy: 0.9643 - val_loss: 0.1396 - val_accuracy: 0.9611\n",
            "Epoch 39/100\n",
            "375/375 [==============================] - 2s 5ms/step - loss: 0.1248 - accuracy: 0.9644 - val_loss: 0.1376 - val_accuracy: 0.9624\n",
            "Epoch 40/100\n",
            "375/375 [==============================] - 3s 8ms/step - loss: 0.1225 - accuracy: 0.9652 - val_loss: 0.1357 - val_accuracy: 0.9624\n",
            "Epoch 41/100\n",
            "375/375 [==============================] - 2s 5ms/step - loss: 0.1203 - accuracy: 0.9660 - val_loss: 0.1342 - val_accuracy: 0.9633\n",
            "Epoch 42/100\n",
            "375/375 [==============================] - 2s 5ms/step - loss: 0.1181 - accuracy: 0.9665 - val_loss: 0.1335 - val_accuracy: 0.9636\n",
            "Epoch 43/100\n",
            "375/375 [==============================] - 2s 5ms/step - loss: 0.1159 - accuracy: 0.9673 - val_loss: 0.1320 - val_accuracy: 0.9632\n",
            "Epoch 44/100\n",
            "375/375 [==============================] - 2s 5ms/step - loss: 0.1139 - accuracy: 0.9682 - val_loss: 0.1305 - val_accuracy: 0.9635\n",
            "Epoch 45/100\n",
            "375/375 [==============================] - 2s 5ms/step - loss: 0.1121 - accuracy: 0.9686 - val_loss: 0.1294 - val_accuracy: 0.9636\n",
            "Epoch 46/100\n",
            "375/375 [==============================] - 3s 8ms/step - loss: 0.1100 - accuracy: 0.9690 - val_loss: 0.1278 - val_accuracy: 0.9635\n",
            "Epoch 47/100\n",
            "375/375 [==============================] - 2s 5ms/step - loss: 0.1083 - accuracy: 0.9696 - val_loss: 0.1268 - val_accuracy: 0.9647\n",
            "Epoch 48/100\n",
            "375/375 [==============================] - 2s 5ms/step - loss: 0.1064 - accuracy: 0.9699 - val_loss: 0.1251 - val_accuracy: 0.9650\n",
            "Epoch 49/100\n",
            "375/375 [==============================] - 2s 5ms/step - loss: 0.1047 - accuracy: 0.9708 - val_loss: 0.1241 - val_accuracy: 0.9653\n",
            "Epoch 50/100\n",
            "375/375 [==============================] - 2s 5ms/step - loss: 0.1028 - accuracy: 0.9714 - val_loss: 0.1230 - val_accuracy: 0.9652\n",
            "Epoch 51/100\n",
            "375/375 [==============================] - 2s 5ms/step - loss: 0.1013 - accuracy: 0.9714 - val_loss: 0.1222 - val_accuracy: 0.9655\n",
            "Epoch 52/100\n",
            "375/375 [==============================] - 3s 8ms/step - loss: 0.0996 - accuracy: 0.9721 - val_loss: 0.1205 - val_accuracy: 0.9656\n",
            "Epoch 53/100\n",
            "375/375 [==============================] - 2s 5ms/step - loss: 0.0979 - accuracy: 0.9729 - val_loss: 0.1198 - val_accuracy: 0.9664\n",
            "Epoch 54/100\n",
            "375/375 [==============================] - 2s 5ms/step - loss: 0.0964 - accuracy: 0.9731 - val_loss: 0.1195 - val_accuracy: 0.9659\n",
            "Epoch 55/100\n",
            "375/375 [==============================] - 2s 5ms/step - loss: 0.0948 - accuracy: 0.9740 - val_loss: 0.1181 - val_accuracy: 0.9662\n",
            "Epoch 56/100\n",
            "375/375 [==============================] - 2s 5ms/step - loss: 0.0935 - accuracy: 0.9739 - val_loss: 0.1173 - val_accuracy: 0.9671\n",
            "Epoch 57/100\n",
            "375/375 [==============================] - 4s 10ms/step - loss: 0.0920 - accuracy: 0.9746 - val_loss: 0.1161 - val_accuracy: 0.9672\n",
            "Epoch 58/100\n",
            "375/375 [==============================] - 2s 6ms/step - loss: 0.0903 - accuracy: 0.9748 - val_loss: 0.1154 - val_accuracy: 0.9677\n",
            "Epoch 59/100\n",
            "375/375 [==============================] - 2s 6ms/step - loss: 0.0892 - accuracy: 0.9751 - val_loss: 0.1143 - val_accuracy: 0.9677\n",
            "Epoch 60/100\n",
            "375/375 [==============================] - 2s 5ms/step - loss: 0.0878 - accuracy: 0.9754 - val_loss: 0.1137 - val_accuracy: 0.9676\n",
            "Epoch 61/100\n",
            "375/375 [==============================] - 2s 5ms/step - loss: 0.0865 - accuracy: 0.9758 - val_loss: 0.1136 - val_accuracy: 0.9682\n",
            "Epoch 62/100\n",
            "375/375 [==============================] - 3s 8ms/step - loss: 0.0851 - accuracy: 0.9763 - val_loss: 0.1124 - val_accuracy: 0.9685\n",
            "Epoch 63/100\n",
            "375/375 [==============================] - 3s 8ms/step - loss: 0.0839 - accuracy: 0.9767 - val_loss: 0.1114 - val_accuracy: 0.9679\n",
            "Epoch 64/100\n",
            "375/375 [==============================] - 2s 5ms/step - loss: 0.0826 - accuracy: 0.9773 - val_loss: 0.1105 - val_accuracy: 0.9685\n",
            "Epoch 65/100\n",
            "375/375 [==============================] - 2s 6ms/step - loss: 0.0815 - accuracy: 0.9772 - val_loss: 0.1095 - val_accuracy: 0.9691\n",
            "Epoch 66/100\n",
            "375/375 [==============================] - 2s 7ms/step - loss: 0.0801 - accuracy: 0.9781 - val_loss: 0.1094 - val_accuracy: 0.9695\n",
            "Epoch 67/100\n",
            "375/375 [==============================] - 3s 8ms/step - loss: 0.0790 - accuracy: 0.9783 - val_loss: 0.1077 - val_accuracy: 0.9694\n",
            "Epoch 68/100\n",
            "375/375 [==============================] - 3s 7ms/step - loss: 0.0778 - accuracy: 0.9785 - val_loss: 0.1082 - val_accuracy: 0.9698\n",
            "Epoch 69/100\n",
            "375/375 [==============================] - 2s 5ms/step - loss: 0.0767 - accuracy: 0.9786 - val_loss: 0.1073 - val_accuracy: 0.9698\n",
            "Epoch 70/100\n",
            "375/375 [==============================] - 2s 5ms/step - loss: 0.0756 - accuracy: 0.9789 - val_loss: 0.1066 - val_accuracy: 0.9698\n",
            "Epoch 71/100\n",
            "375/375 [==============================] - 2s 5ms/step - loss: 0.0743 - accuracy: 0.9792 - val_loss: 0.1070 - val_accuracy: 0.9690\n",
            "Epoch 72/100\n",
            "375/375 [==============================] - 2s 5ms/step - loss: 0.0735 - accuracy: 0.9800 - val_loss: 0.1059 - val_accuracy: 0.9697\n",
            "Epoch 73/100\n",
            "375/375 [==============================] - 2s 6ms/step - loss: 0.0724 - accuracy: 0.9803 - val_loss: 0.1060 - val_accuracy: 0.9702\n",
            "Epoch 74/100\n",
            "375/375 [==============================] - 3s 7ms/step - loss: 0.0714 - accuracy: 0.9805 - val_loss: 0.1043 - val_accuracy: 0.9703\n",
            "Epoch 75/100\n",
            "375/375 [==============================] - 2s 5ms/step - loss: 0.0702 - accuracy: 0.9811 - val_loss: 0.1039 - val_accuracy: 0.9707\n",
            "Epoch 76/100\n",
            "375/375 [==============================] - 2s 5ms/step - loss: 0.0695 - accuracy: 0.9811 - val_loss: 0.1036 - val_accuracy: 0.9715\n",
            "Epoch 77/100\n",
            "375/375 [==============================] - 2s 5ms/step - loss: 0.0684 - accuracy: 0.9812 - val_loss: 0.1031 - val_accuracy: 0.9703\n",
            "Epoch 78/100\n",
            "375/375 [==============================] - 2s 5ms/step - loss: 0.0675 - accuracy: 0.9816 - val_loss: 0.1020 - val_accuracy: 0.9721\n",
            "Epoch 79/100\n",
            "375/375 [==============================] - 3s 7ms/step - loss: 0.0666 - accuracy: 0.9823 - val_loss: 0.1023 - val_accuracy: 0.9711\n",
            "Epoch 80/100\n",
            "375/375 [==============================] - 3s 7ms/step - loss: 0.0657 - accuracy: 0.9824 - val_loss: 0.1010 - val_accuracy: 0.9718\n",
            "Epoch 81/100\n",
            "375/375 [==============================] - 2s 5ms/step - loss: 0.0647 - accuracy: 0.9828 - val_loss: 0.1009 - val_accuracy: 0.9712\n",
            "Epoch 82/100\n",
            "375/375 [==============================] - 2s 5ms/step - loss: 0.0637 - accuracy: 0.9830 - val_loss: 0.1004 - val_accuracy: 0.9716\n",
            "Epoch 83/100\n",
            "375/375 [==============================] - 2s 5ms/step - loss: 0.0630 - accuracy: 0.9833 - val_loss: 0.1002 - val_accuracy: 0.9710\n",
            "Epoch 84/100\n",
            "375/375 [==============================] - 2s 5ms/step - loss: 0.0622 - accuracy: 0.9831 - val_loss: 0.0991 - val_accuracy: 0.9714\n",
            "Epoch 85/100\n",
            "375/375 [==============================] - 3s 7ms/step - loss: 0.0614 - accuracy: 0.9835 - val_loss: 0.0990 - val_accuracy: 0.9721\n",
            "Epoch 86/100\n",
            "375/375 [==============================] - 3s 7ms/step - loss: 0.0605 - accuracy: 0.9841 - val_loss: 0.0984 - val_accuracy: 0.9716\n",
            "Epoch 87/100\n",
            "375/375 [==============================] - 2s 5ms/step - loss: 0.0597 - accuracy: 0.9843 - val_loss: 0.0983 - val_accuracy: 0.9721\n",
            "Epoch 88/100\n",
            "375/375 [==============================] - 2s 6ms/step - loss: 0.0588 - accuracy: 0.9845 - val_loss: 0.0982 - val_accuracy: 0.9719\n",
            "Epoch 89/100\n",
            "375/375 [==============================] - 2s 5ms/step - loss: 0.0581 - accuracy: 0.9848 - val_loss: 0.0973 - val_accuracy: 0.9722\n",
            "Epoch 90/100\n",
            "375/375 [==============================] - 2s 5ms/step - loss: 0.0573 - accuracy: 0.9851 - val_loss: 0.0973 - val_accuracy: 0.9718\n",
            "Epoch 91/100\n",
            "375/375 [==============================] - 3s 7ms/step - loss: 0.0566 - accuracy: 0.9850 - val_loss: 0.0972 - val_accuracy: 0.9728\n",
            "Epoch 92/100\n",
            "375/375 [==============================] - 3s 7ms/step - loss: 0.0558 - accuracy: 0.9855 - val_loss: 0.0967 - val_accuracy: 0.9727\n",
            "Epoch 93/100\n",
            "375/375 [==============================] - 2s 5ms/step - loss: 0.0550 - accuracy: 0.9857 - val_loss: 0.0969 - val_accuracy: 0.9722\n",
            "Epoch 94/100\n",
            "375/375 [==============================] - 2s 5ms/step - loss: 0.0543 - accuracy: 0.9860 - val_loss: 0.0965 - val_accuracy: 0.9728\n",
            "Epoch 95/100\n",
            "375/375 [==============================] - 2s 6ms/step - loss: 0.0537 - accuracy: 0.9861 - val_loss: 0.0960 - val_accuracy: 0.9719\n",
            "Epoch 96/100\n",
            "375/375 [==============================] - 2s 6ms/step - loss: 0.0530 - accuracy: 0.9863 - val_loss: 0.0958 - val_accuracy: 0.9723\n",
            "Epoch 97/100\n",
            "375/375 [==============================] - 3s 8ms/step - loss: 0.0523 - accuracy: 0.9865 - val_loss: 0.0952 - val_accuracy: 0.9730\n",
            "Epoch 98/100\n",
            "375/375 [==============================] - 2s 6ms/step - loss: 0.0517 - accuracy: 0.9864 - val_loss: 0.0951 - val_accuracy: 0.9726\n",
            "Epoch 99/100\n",
            "375/375 [==============================] - 2s 5ms/step - loss: 0.0509 - accuracy: 0.9868 - val_loss: 0.0949 - val_accuracy: 0.9732\n",
            "Epoch 100/100\n",
            "375/375 [==============================] - 2s 5ms/step - loss: 0.0503 - accuracy: 0.9869 - val_loss: 0.0941 - val_accuracy: 0.9726\n"
          ]
        },
        {
          "output_type": "execute_result",
          "data": {
            "text/plain": [
              "<keras.callbacks.History at 0x797e8277a470>"
            ]
          },
          "metadata": {},
          "execution_count": 40
        }
      ]
    },
    {
      "cell_type": "code",
      "source": [
        "# Evaluating the model.\n",
        "test_loss, test_acc = model.evaluate(X_test, y_test)\n",
        "print('Test accuracy:', test_acc)"
      ],
      "metadata": {
        "colab": {
          "base_uri": "https://localhost:8080/"
        },
        "id": "edBtjnSwV0S7",
        "outputId": "020dcd31-36eb-4e61-d2f8-812c274afd32"
      },
      "execution_count": 41,
      "outputs": [
        {
          "output_type": "stream",
          "name": "stdout",
          "text": [
            "313/313 [==============================] - 1s 2ms/step - loss: 0.0876 - accuracy: 0.9744\n",
            "Test accuracy: 0.974399983882904\n"
          ]
        }
      ]
    },
    {
      "cell_type": "markdown",
      "source": [
        "## Further improving the simple net in TensorFlow with dropout\n",
        "**Dropout** is a technique to improve the performance of deep learning models *by reducing overfitting.* Overfitting is when a model learns the noise or specific patterns in the training data that do not generalize well to new or unseen data.\n",
        "\n",
        "* Dropout works by randomly dropping out some units or neurons in a layer during each training step, which prevents co-adaptation of features and forces the model to learn more robust representations.\n",
        "\n",
        "* Dropout also acts as a form of regularization, which means it reduces the complexity of the model and shrinks the weights towards zero.\n",
        "\n",
        "* Dropout can be applied to different types of layers in a neural network, such as fully-connected, convolutional, or recurrent layers. The rate of dropout is usually a fraction between 0 and 1 that specifies the probability of each unit being dropped out. A common value for the dropout rate is 0.5, but it can be tuned depending on the problem and the architecture of the model.\n",
        "\n",
        "* Dropout is implemented in Python with Keras using the `tf.keras.layers.Dropout` function, which takes the dropout rate as an argument."
      ],
      "metadata": {
        "id": "p7S9-aXFW8n7"
      }
    },
    {
      "cell_type": "code",
      "source": [
        "# Network and training.\n",
        "EPOCHS = 100\n",
        "BATCH_SIZE = 128\n",
        "VERBOSE = 1\n",
        "NB_CLASSES = 10 # number of outputs = number of digits N_HIDDEN = 128\n",
        "VALIDATION_SPLIT = 0.2 # how much TRAIN is reserved for VALIDATION DROPOUT = 0.3\n",
        "DROPOUT = 0.3"
      ],
      "metadata": {
        "id": "oJoBZjafWV19"
      },
      "execution_count": 51,
      "outputs": []
    },
    {
      "cell_type": "code",
      "source": [
        "# Loading MNIST dataset.\n",
        "# Labels have one-hot representation.\n",
        "mnist = keras.datasets.mnist\n",
        "(X_train, y_train), (X_test, y_test) = mnist.load_data()\n",
        "\n",
        "# X_train is 60000 rows of 28x28 values; we reshape it to 60000 x 784.\n",
        "RESHAPED = 784\n",
        "\n",
        "X_train = X_train.reshape(60000, RESHAPED)\n",
        "X_test = X_test.reshape(10000, RESHAPED)\n",
        "X_train = X_train.astype('float32')\n",
        "X_test = X_test.astype('float32')\n",
        "\n",
        "# Normalize inputs to be within in [0, 1].\n",
        "X_train /= 255.0\n",
        "X_test /= 255.0\n",
        "print(X_train.shape[0], 'train samples')\n",
        "print(X_test.shape[0], 'test samples')\n",
        "\n",
        "# Labels have one-hot representation.\n",
        "y_train = tf.keras.utils.to_categorical(y_train, NB_CLASSES)\n",
        "y_test = tf.keras.utils.to_categorical(y_test, NB_CLASSES)"
      ],
      "metadata": {
        "colab": {
          "base_uri": "https://localhost:8080/"
        },
        "id": "TnxLs9AZXI4a",
        "outputId": "204c5efd-da67-453c-a6bb-92cbd9ae0197"
      },
      "execution_count": 52,
      "outputs": [
        {
          "output_type": "stream",
          "name": "stdout",
          "text": [
            "60000 train samples\n",
            "10000 test samples\n"
          ]
        }
      ]
    },
    {
      "cell_type": "code",
      "source": [
        "# Building the model.\n",
        "model = tf.keras.models.Sequential()\n",
        "\n",
        "model.add(\n",
        "    keras.layers.Dense(N_HIDDEN,\n",
        "    input_shape=(RESHAPED,),\n",
        "    name='dense_layer',\n",
        "    activation='relu'))\n",
        "\n",
        "model.add(\n",
        "    keras.layers.Dropout(DROPOUT))\n",
        "\n",
        "model.add(\n",
        "    keras.layers.Dense(N_HIDDEN,\n",
        "    name='dense_layer_2',\n",
        "    activation='relu'))\n",
        "\n",
        "model.add(\n",
        "    keras.layers.Dropout(DROPOUT))\n",
        "\n",
        "model.add(\n",
        "    keras.layers.Dense(NB_CLASSES,\n",
        "    name='dense_layer_3',\n",
        "    activation='softmax'))\n",
        "\n",
        "# Summary of the model.\n",
        "model.summary()"
      ],
      "metadata": {
        "colab": {
          "base_uri": "https://localhost:8080/"
        },
        "id": "GUdVCZL2YHkl",
        "outputId": "6619aafa-0c15-44e0-88a5-2abf38374fa4"
      },
      "execution_count": 53,
      "outputs": [
        {
          "output_type": "stream",
          "name": "stdout",
          "text": [
            "Model: \"sequential_12\"\n",
            "_________________________________________________________________\n",
            " Layer (type)                Output Shape              Param #   \n",
            "=================================================================\n",
            " dense_layer (Dense)         (None, 128)               100480    \n",
            "                                                                 \n",
            " dropout (Dropout)           (None, 128)               0         \n",
            "                                                                 \n",
            " dense_layer_2 (Dense)       (None, 128)               16512     \n",
            "                                                                 \n",
            " dropout_1 (Dropout)         (None, 128)               0         \n",
            "                                                                 \n",
            " dense_layer_3 (Dense)       (None, 10)                1290      \n",
            "                                                                 \n",
            "=================================================================\n",
            "Total params: 118,282\n",
            "Trainable params: 118,282\n",
            "Non-trainable params: 0\n",
            "_________________________________________________________________\n"
          ]
        }
      ]
    },
    {
      "cell_type": "code",
      "source": [
        "# Compiling the model.\n",
        "model.compile(\n",
        "    optimizer='SGD',\n",
        "    loss='categorical_crossentropy',\n",
        "    metrics=['accuracy'])"
      ],
      "metadata": {
        "id": "FQ5xS6VxYMo0"
      },
      "execution_count": 54,
      "outputs": []
    },
    {
      "cell_type": "code",
      "source": [
        "# Training the model.\n",
        "model.fit(\n",
        "    X_train, y_train,\n",
        "    batch_size=BATCH_SIZE, epochs=EPOCHS,\n",
        "    verbose=VERBOSE, validation_split=VALIDATION_SPLIT)"
      ],
      "metadata": {
        "colab": {
          "base_uri": "https://localhost:8080/"
        },
        "id": "X_Q4vFIIYPkb",
        "outputId": "d5f76baa-d1d0-4b53-d2af-2161a96a653f"
      },
      "execution_count": 55,
      "outputs": [
        {
          "output_type": "stream",
          "name": "stdout",
          "text": [
            "Epoch 1/100\n",
            "375/375 [==============================] - 4s 9ms/step - loss: 1.7026 - accuracy: 0.4535 - val_loss: 0.9021 - val_accuracy: 0.8070\n",
            "Epoch 2/100\n",
            "375/375 [==============================] - 2s 6ms/step - loss: 0.9257 - accuracy: 0.7152 - val_loss: 0.5441 - val_accuracy: 0.8653\n",
            "Epoch 3/100\n",
            "375/375 [==============================] - 2s 6ms/step - loss: 0.7038 - accuracy: 0.7837 - val_loss: 0.4357 - val_accuracy: 0.8857\n",
            "Epoch 4/100\n",
            "375/375 [==============================] - 2s 6ms/step - loss: 0.5988 - accuracy: 0.8204 - val_loss: 0.3748 - val_accuracy: 0.8994\n",
            "Epoch 5/100\n",
            "375/375 [==============================] - 2s 6ms/step - loss: 0.5341 - accuracy: 0.8386 - val_loss: 0.3404 - val_accuracy: 0.9066\n",
            "Epoch 6/100\n",
            "375/375 [==============================] - 3s 8ms/step - loss: 0.4903 - accuracy: 0.8521 - val_loss: 0.3159 - val_accuracy: 0.9117\n",
            "Epoch 7/100\n",
            "375/375 [==============================] - 3s 8ms/step - loss: 0.4599 - accuracy: 0.8643 - val_loss: 0.2966 - val_accuracy: 0.9168\n",
            "Epoch 8/100\n",
            "375/375 [==============================] - 2s 6ms/step - loss: 0.4327 - accuracy: 0.8716 - val_loss: 0.2822 - val_accuracy: 0.9183\n",
            "Epoch 9/100\n",
            "375/375 [==============================] - 2s 6ms/step - loss: 0.4119 - accuracy: 0.8798 - val_loss: 0.2694 - val_accuracy: 0.9227\n",
            "Epoch 10/100\n",
            "375/375 [==============================] - 2s 6ms/step - loss: 0.3952 - accuracy: 0.8841 - val_loss: 0.2587 - val_accuracy: 0.9261\n",
            "Epoch 11/100\n",
            "375/375 [==============================] - 3s 9ms/step - loss: 0.3769 - accuracy: 0.8896 - val_loss: 0.2490 - val_accuracy: 0.9278\n",
            "Epoch 12/100\n",
            "375/375 [==============================] - 2s 6ms/step - loss: 0.3645 - accuracy: 0.8928 - val_loss: 0.2403 - val_accuracy: 0.9314\n",
            "Epoch 13/100\n",
            "375/375 [==============================] - 3s 7ms/step - loss: 0.3525 - accuracy: 0.8964 - val_loss: 0.2328 - val_accuracy: 0.9327\n",
            "Epoch 14/100\n",
            "375/375 [==============================] - 2s 7ms/step - loss: 0.3415 - accuracy: 0.8999 - val_loss: 0.2259 - val_accuracy: 0.9348\n",
            "Epoch 15/100\n",
            "375/375 [==============================] - 2s 6ms/step - loss: 0.3291 - accuracy: 0.9035 - val_loss: 0.2199 - val_accuracy: 0.9362\n",
            "Epoch 16/100\n",
            "375/375 [==============================] - 3s 8ms/step - loss: 0.3193 - accuracy: 0.9073 - val_loss: 0.2144 - val_accuracy: 0.9379\n",
            "Epoch 17/100\n",
            "375/375 [==============================] - 2s 6ms/step - loss: 0.3121 - accuracy: 0.9080 - val_loss: 0.2076 - val_accuracy: 0.9398\n",
            "Epoch 18/100\n",
            "375/375 [==============================] - 2s 6ms/step - loss: 0.3062 - accuracy: 0.9114 - val_loss: 0.2035 - val_accuracy: 0.9411\n",
            "Epoch 19/100\n",
            "375/375 [==============================] - 2s 6ms/step - loss: 0.2981 - accuracy: 0.9133 - val_loss: 0.1986 - val_accuracy: 0.9421\n",
            "Epoch 20/100\n",
            "375/375 [==============================] - 2s 6ms/step - loss: 0.2912 - accuracy: 0.9140 - val_loss: 0.1938 - val_accuracy: 0.9442\n",
            "Epoch 21/100\n",
            "375/375 [==============================] - 3s 8ms/step - loss: 0.2833 - accuracy: 0.9168 - val_loss: 0.1906 - val_accuracy: 0.9449\n",
            "Epoch 22/100\n",
            "375/375 [==============================] - 3s 7ms/step - loss: 0.2784 - accuracy: 0.9185 - val_loss: 0.1858 - val_accuracy: 0.9464\n",
            "Epoch 23/100\n",
            "375/375 [==============================] - 2s 6ms/step - loss: 0.2729 - accuracy: 0.9204 - val_loss: 0.1828 - val_accuracy: 0.9475\n",
            "Epoch 24/100\n",
            "375/375 [==============================] - 2s 6ms/step - loss: 0.2649 - accuracy: 0.9233 - val_loss: 0.1783 - val_accuracy: 0.9484\n",
            "Epoch 25/100\n",
            "375/375 [==============================] - 2s 6ms/step - loss: 0.2594 - accuracy: 0.9233 - val_loss: 0.1752 - val_accuracy: 0.9494\n",
            "Epoch 26/100\n",
            "375/375 [==============================] - 3s 7ms/step - loss: 0.2563 - accuracy: 0.9240 - val_loss: 0.1720 - val_accuracy: 0.9502\n",
            "Epoch 27/100\n",
            "375/375 [==============================] - 3s 8ms/step - loss: 0.2510 - accuracy: 0.9255 - val_loss: 0.1689 - val_accuracy: 0.9514\n",
            "Epoch 28/100\n",
            "375/375 [==============================] - 2s 6ms/step - loss: 0.2464 - accuracy: 0.9273 - val_loss: 0.1675 - val_accuracy: 0.9518\n",
            "Epoch 29/100\n",
            "375/375 [==============================] - 2s 6ms/step - loss: 0.2403 - accuracy: 0.9293 - val_loss: 0.1642 - val_accuracy: 0.9532\n",
            "Epoch 30/100\n",
            "375/375 [==============================] - 2s 6ms/step - loss: 0.2405 - accuracy: 0.9291 - val_loss: 0.1629 - val_accuracy: 0.9535\n",
            "Epoch 31/100\n",
            "375/375 [==============================] - 3s 7ms/step - loss: 0.2340 - accuracy: 0.9321 - val_loss: 0.1593 - val_accuracy: 0.9550\n",
            "Epoch 32/100\n",
            "375/375 [==============================] - 3s 8ms/step - loss: 0.2307 - accuracy: 0.9329 - val_loss: 0.1578 - val_accuracy: 0.9556\n",
            "Epoch 33/100\n",
            "375/375 [==============================] - 2s 6ms/step - loss: 0.2286 - accuracy: 0.9326 - val_loss: 0.1546 - val_accuracy: 0.9562\n",
            "Epoch 34/100\n",
            "375/375 [==============================] - 2s 6ms/step - loss: 0.2246 - accuracy: 0.9338 - val_loss: 0.1522 - val_accuracy: 0.9564\n",
            "Epoch 35/100\n",
            "375/375 [==============================] - 2s 6ms/step - loss: 0.2195 - accuracy: 0.9362 - val_loss: 0.1495 - val_accuracy: 0.9570\n",
            "Epoch 36/100\n",
            "375/375 [==============================] - 4s 10ms/step - loss: 0.2181 - accuracy: 0.9366 - val_loss: 0.1479 - val_accuracy: 0.9580\n",
            "Epoch 37/100\n",
            "375/375 [==============================] - 3s 8ms/step - loss: 0.2115 - accuracy: 0.9378 - val_loss: 0.1459 - val_accuracy: 0.9580\n",
            "Epoch 38/100\n",
            "375/375 [==============================] - 2s 6ms/step - loss: 0.2115 - accuracy: 0.9379 - val_loss: 0.1444 - val_accuracy: 0.9589\n",
            "Epoch 39/100\n",
            "375/375 [==============================] - 3s 8ms/step - loss: 0.2071 - accuracy: 0.9387 - val_loss: 0.1429 - val_accuracy: 0.9588\n",
            "Epoch 40/100\n",
            "375/375 [==============================] - 3s 9ms/step - loss: 0.2058 - accuracy: 0.9399 - val_loss: 0.1402 - val_accuracy: 0.9599\n",
            "Epoch 41/100\n",
            "375/375 [==============================] - 3s 9ms/step - loss: 0.2046 - accuracy: 0.9400 - val_loss: 0.1391 - val_accuracy: 0.9600\n",
            "Epoch 42/100\n",
            "375/375 [==============================] - 2s 6ms/step - loss: 0.2006 - accuracy: 0.9407 - val_loss: 0.1378 - val_accuracy: 0.9603\n",
            "Epoch 43/100\n",
            "375/375 [==============================] - 2s 6ms/step - loss: 0.2005 - accuracy: 0.9414 - val_loss: 0.1362 - val_accuracy: 0.9609\n",
            "Epoch 44/100\n",
            "375/375 [==============================] - 2s 6ms/step - loss: 0.1968 - accuracy: 0.9416 - val_loss: 0.1355 - val_accuracy: 0.9610\n",
            "Epoch 45/100\n",
            "375/375 [==============================] - 2s 6ms/step - loss: 0.1934 - accuracy: 0.9436 - val_loss: 0.1338 - val_accuracy: 0.9612\n",
            "Epoch 46/100\n",
            "375/375 [==============================] - 3s 8ms/step - loss: 0.1927 - accuracy: 0.9439 - val_loss: 0.1319 - val_accuracy: 0.9623\n",
            "Epoch 47/100\n",
            "375/375 [==============================] - 3s 8ms/step - loss: 0.1883 - accuracy: 0.9449 - val_loss: 0.1305 - val_accuracy: 0.9620\n",
            "Epoch 48/100\n",
            "375/375 [==============================] - 2s 6ms/step - loss: 0.1871 - accuracy: 0.9447 - val_loss: 0.1292 - val_accuracy: 0.9622\n",
            "Epoch 49/100\n",
            "375/375 [==============================] - 2s 6ms/step - loss: 0.1827 - accuracy: 0.9455 - val_loss: 0.1286 - val_accuracy: 0.9632\n",
            "Epoch 50/100\n",
            "375/375 [==============================] - 2s 6ms/step - loss: 0.1820 - accuracy: 0.9462 - val_loss: 0.1266 - val_accuracy: 0.9636\n",
            "Epoch 51/100\n",
            "375/375 [==============================] - 4s 10ms/step - loss: 0.1813 - accuracy: 0.9466 - val_loss: 0.1260 - val_accuracy: 0.9630\n",
            "Epoch 52/100\n",
            "375/375 [==============================] - 3s 7ms/step - loss: 0.1792 - accuracy: 0.9472 - val_loss: 0.1248 - val_accuracy: 0.9637\n",
            "Epoch 53/100\n",
            "375/375 [==============================] - 2s 6ms/step - loss: 0.1777 - accuracy: 0.9467 - val_loss: 0.1243 - val_accuracy: 0.9643\n",
            "Epoch 54/100\n",
            "375/375 [==============================] - 2s 6ms/step - loss: 0.1759 - accuracy: 0.9486 - val_loss: 0.1235 - val_accuracy: 0.9648\n",
            "Epoch 55/100\n",
            "375/375 [==============================] - 2s 6ms/step - loss: 0.1744 - accuracy: 0.9482 - val_loss: 0.1223 - val_accuracy: 0.9648\n",
            "Epoch 56/100\n",
            "375/375 [==============================] - 3s 8ms/step - loss: 0.1731 - accuracy: 0.9487 - val_loss: 0.1211 - val_accuracy: 0.9652\n",
            "Epoch 57/100\n",
            "375/375 [==============================] - 3s 8ms/step - loss: 0.1683 - accuracy: 0.9495 - val_loss: 0.1199 - val_accuracy: 0.9661\n",
            "Epoch 58/100\n",
            "375/375 [==============================] - 2s 6ms/step - loss: 0.1695 - accuracy: 0.9499 - val_loss: 0.1190 - val_accuracy: 0.9658\n",
            "Epoch 59/100\n",
            "375/375 [==============================] - 2s 6ms/step - loss: 0.1671 - accuracy: 0.9509 - val_loss: 0.1183 - val_accuracy: 0.9663\n",
            "Epoch 60/100\n",
            "375/375 [==============================] - 3s 7ms/step - loss: 0.1656 - accuracy: 0.9514 - val_loss: 0.1177 - val_accuracy: 0.9664\n",
            "Epoch 61/100\n",
            "375/375 [==============================] - 4s 9ms/step - loss: 0.1644 - accuracy: 0.9518 - val_loss: 0.1171 - val_accuracy: 0.9668\n",
            "Epoch 62/100\n",
            "375/375 [==============================] - 3s 7ms/step - loss: 0.1643 - accuracy: 0.9512 - val_loss: 0.1163 - val_accuracy: 0.9669\n",
            "Epoch 63/100\n",
            "375/375 [==============================] - 3s 8ms/step - loss: 0.1602 - accuracy: 0.9523 - val_loss: 0.1152 - val_accuracy: 0.9670\n",
            "Epoch 64/100\n",
            "375/375 [==============================] - 2s 6ms/step - loss: 0.1601 - accuracy: 0.9542 - val_loss: 0.1152 - val_accuracy: 0.9673\n",
            "Epoch 65/100\n",
            "375/375 [==============================] - 2s 6ms/step - loss: 0.1553 - accuracy: 0.9546 - val_loss: 0.1136 - val_accuracy: 0.9676\n",
            "Epoch 66/100\n",
            "375/375 [==============================] - 3s 9ms/step - loss: 0.1553 - accuracy: 0.9543 - val_loss: 0.1133 - val_accuracy: 0.9678\n",
            "Epoch 67/100\n",
            "375/375 [==============================] - 2s 6ms/step - loss: 0.1534 - accuracy: 0.9547 - val_loss: 0.1129 - val_accuracy: 0.9672\n",
            "Epoch 68/100\n",
            "375/375 [==============================] - 2s 6ms/step - loss: 0.1549 - accuracy: 0.9539 - val_loss: 0.1115 - val_accuracy: 0.9682\n",
            "Epoch 69/100\n",
            "375/375 [==============================] - 2s 6ms/step - loss: 0.1533 - accuracy: 0.9549 - val_loss: 0.1109 - val_accuracy: 0.9682\n",
            "Epoch 70/100\n",
            "375/375 [==============================] - 2s 6ms/step - loss: 0.1488 - accuracy: 0.9563 - val_loss: 0.1105 - val_accuracy: 0.9684\n",
            "Epoch 71/100\n",
            "375/375 [==============================] - 3s 9ms/step - loss: 0.1502 - accuracy: 0.9555 - val_loss: 0.1099 - val_accuracy: 0.9688\n",
            "Epoch 72/100\n",
            "375/375 [==============================] - 3s 8ms/step - loss: 0.1470 - accuracy: 0.9569 - val_loss: 0.1088 - val_accuracy: 0.9686\n",
            "Epoch 73/100\n",
            "375/375 [==============================] - 3s 7ms/step - loss: 0.1476 - accuracy: 0.9560 - val_loss: 0.1081 - val_accuracy: 0.9693\n",
            "Epoch 74/100\n",
            "375/375 [==============================] - 3s 8ms/step - loss: 0.1442 - accuracy: 0.9561 - val_loss: 0.1078 - val_accuracy: 0.9696\n",
            "Epoch 75/100\n",
            "375/375 [==============================] - 3s 8ms/step - loss: 0.1455 - accuracy: 0.9562 - val_loss: 0.1077 - val_accuracy: 0.9693\n",
            "Epoch 76/100\n",
            "375/375 [==============================] - 3s 7ms/step - loss: 0.1413 - accuracy: 0.9580 - val_loss: 0.1071 - val_accuracy: 0.9693\n",
            "Epoch 77/100\n",
            "375/375 [==============================] - 2s 6ms/step - loss: 0.1418 - accuracy: 0.9575 - val_loss: 0.1061 - val_accuracy: 0.9697\n",
            "Epoch 78/100\n",
            "375/375 [==============================] - 3s 8ms/step - loss: 0.1399 - accuracy: 0.9589 - val_loss: 0.1056 - val_accuracy: 0.9697\n",
            "Epoch 79/100\n",
            "375/375 [==============================] - 2s 6ms/step - loss: 0.1383 - accuracy: 0.9576 - val_loss: 0.1052 - val_accuracy: 0.9706\n",
            "Epoch 80/100\n",
            "375/375 [==============================] - 3s 8ms/step - loss: 0.1379 - accuracy: 0.9592 - val_loss: 0.1044 - val_accuracy: 0.9700\n",
            "Epoch 81/100\n",
            "375/375 [==============================] - 3s 9ms/step - loss: 0.1362 - accuracy: 0.9596 - val_loss: 0.1043 - val_accuracy: 0.9711\n",
            "Epoch 82/100\n",
            "375/375 [==============================] - 3s 7ms/step - loss: 0.1340 - accuracy: 0.9600 - val_loss: 0.1033 - val_accuracy: 0.9711\n",
            "Epoch 83/100\n",
            "375/375 [==============================] - 2s 6ms/step - loss: 0.1335 - accuracy: 0.9607 - val_loss: 0.1029 - val_accuracy: 0.9709\n",
            "Epoch 84/100\n",
            "375/375 [==============================] - 2s 6ms/step - loss: 0.1366 - accuracy: 0.9595 - val_loss: 0.1028 - val_accuracy: 0.9710\n",
            "Epoch 85/100\n",
            "375/375 [==============================] - 3s 9ms/step - loss: 0.1335 - accuracy: 0.9596 - val_loss: 0.1020 - val_accuracy: 0.9713\n",
            "Epoch 86/100\n",
            "375/375 [==============================] - 2s 6ms/step - loss: 0.1327 - accuracy: 0.9610 - val_loss: 0.1012 - val_accuracy: 0.9713\n",
            "Epoch 87/100\n",
            "375/375 [==============================] - 2s 6ms/step - loss: 0.1328 - accuracy: 0.9606 - val_loss: 0.1013 - val_accuracy: 0.9712\n",
            "Epoch 88/100\n",
            "375/375 [==============================] - 2s 6ms/step - loss: 0.1332 - accuracy: 0.9607 - val_loss: 0.1002 - val_accuracy: 0.9712\n",
            "Epoch 89/100\n",
            "375/375 [==============================] - 2s 6ms/step - loss: 0.1283 - accuracy: 0.9613 - val_loss: 0.1000 - val_accuracy: 0.9719\n",
            "Epoch 90/100\n",
            "375/375 [==============================] - 3s 9ms/step - loss: 0.1299 - accuracy: 0.9611 - val_loss: 0.0998 - val_accuracy: 0.9718\n",
            "Epoch 91/100\n",
            "375/375 [==============================] - 2s 6ms/step - loss: 0.1290 - accuracy: 0.9619 - val_loss: 0.0993 - val_accuracy: 0.9721\n",
            "Epoch 92/100\n",
            "375/375 [==============================] - 2s 6ms/step - loss: 0.1282 - accuracy: 0.9613 - val_loss: 0.0987 - val_accuracy: 0.9722\n",
            "Epoch 93/100\n",
            "375/375 [==============================] - 2s 6ms/step - loss: 0.1268 - accuracy: 0.9626 - val_loss: 0.0987 - val_accuracy: 0.9722\n",
            "Epoch 94/100\n",
            "375/375 [==============================] - 2s 6ms/step - loss: 0.1267 - accuracy: 0.9629 - val_loss: 0.0986 - val_accuracy: 0.9722\n",
            "Epoch 95/100\n",
            "375/375 [==============================] - 3s 8ms/step - loss: 0.1228 - accuracy: 0.9633 - val_loss: 0.0983 - val_accuracy: 0.9722\n",
            "Epoch 96/100\n",
            "375/375 [==============================] - 2s 6ms/step - loss: 0.1241 - accuracy: 0.9625 - val_loss: 0.0979 - val_accuracy: 0.9719\n",
            "Epoch 97/100\n",
            "375/375 [==============================] - 2s 6ms/step - loss: 0.1224 - accuracy: 0.9638 - val_loss: 0.0967 - val_accuracy: 0.9727\n",
            "Epoch 98/100\n",
            "375/375 [==============================] - 2s 6ms/step - loss: 0.1229 - accuracy: 0.9632 - val_loss: 0.0964 - val_accuracy: 0.9729\n",
            "Epoch 99/100\n",
            "375/375 [==============================] - 2s 6ms/step - loss: 0.1212 - accuracy: 0.9641 - val_loss: 0.0964 - val_accuracy: 0.9731\n",
            "Epoch 100/100\n",
            "375/375 [==============================] - 3s 7ms/step - loss: 0.1196 - accuracy: 0.9644 - val_loss: 0.0956 - val_accuracy: 0.9730\n"
          ]
        },
        {
          "output_type": "execute_result",
          "data": {
            "text/plain": [
              "<keras.callbacks.History at 0x797e85d63ca0>"
            ]
          },
          "metadata": {},
          "execution_count": 55
        }
      ]
    },
    {
      "cell_type": "code",
      "source": [
        "# Evaluating the model.\n",
        "test_loss, test_acc = model.evaluate(X_test, y_test)\n",
        "print('Test accuracy:', test_acc)"
      ],
      "metadata": {
        "colab": {
          "base_uri": "https://localhost:8080/"
        },
        "id": "UiCJcDX7YUfJ",
        "outputId": "110a30b9-5bc1-4de7-e7de-7423cfa46766"
      },
      "execution_count": 56,
      "outputs": [
        {
          "output_type": "stream",
          "name": "stdout",
          "text": [
            "313/313 [==============================] - 1s 2ms/step - loss: 0.0932 - accuracy: 0.9725\n",
            "Test accuracy: 0.9725000262260437\n"
          ]
        }
      ]
    },
    {
      "cell_type": "markdown",
      "source": [
        "# Let's try different optimizers\n",
        "* **Adam optimizers** are a type of optimization algorithm that are widely used in deep learning. They are based on adaptive estimation of first-order and second-order moments, which means they adjust the learning rate of each parameter according to its past gradients and momentum. Adam optimizers are known for being computationally efficient, having little memory requirement, and being well suited for large-scale problems.\n"
      ],
      "metadata": {
        "id": "shTLIdwebwou"
      }
    },
    {
      "cell_type": "code",
      "source": [
        "# Network and training.\n",
        "EPOCHS = 10\n",
        "BATCH_SIZE = 128\n",
        "VERBOSE = 1\n",
        "NB_CLASSES = 10 # number of outputs = number of digits N_HIDDEN = 128\n",
        "VALIDATION_SPLIT = 0.2 # how much TRAIN is reserved for VALIDATION DROPOUT = 0.3\n",
        "DROPOUT = 0.3\n",
        "\n",
        "# Loading MNIST dataset.\n",
        "# Labels have one-hot representation.\n",
        "mnist = keras.datasets.mnist\n",
        "(X_train, y_train), (X_test, y_test) = mnist.load_data()\n",
        "\n",
        "# X_train is 60000 rows of 28x28 values; we reshape it to 60000 x 784.\n",
        "RESHAPED = 784\n",
        "\n",
        "X_train = X_train.reshape(60000, RESHAPED)\n",
        "X_test = X_test.reshape(10000, RESHAPED)\n",
        "X_train = X_train.astype('float32')\n",
        "X_test = X_test.astype('float32')\n",
        "\n",
        "# Normalize inputs to be within in [0, 1].\n",
        "X_train /= 255.0\n",
        "X_test /= 255.0\n",
        "print(X_train.shape[0], 'train samples')\n",
        "print(X_test.shape[0], 'test samples')\n",
        "\n",
        "# Labels have one-hot representation.\n",
        "y_train = tf.keras.utils.to_categorical(y_train, NB_CLASSES)\n",
        "y_test = tf.keras.utils.to_categorical(y_test, NB_CLASSES)\n",
        "\n",
        "# Building the model.\n",
        "model = tf.keras.models.Sequential()\n",
        "\n",
        "model.add(\n",
        "    keras.layers.Dense(N_HIDDEN,\n",
        "    input_shape=(RESHAPED,),\n",
        "    name='dense_layer',\n",
        "    activation='relu'))\n",
        "\n",
        "model.add(\n",
        "    keras.layers.Dropout(DROPOUT))\n",
        "\n",
        "model.add(\n",
        "    keras.layers.Dense(N_HIDDEN,\n",
        "    name='dense_layer_2',\n",
        "    activation='relu'))\n",
        "\n",
        "model.add(\n",
        "    keras.layers.Dropout(DROPOUT))\n",
        "\n",
        "model.add(\n",
        "    keras.layers.Dense(NB_CLASSES,\n",
        "    name='dense_layer_3',\n",
        "    activation='softmax'))\n",
        "\n",
        "# Summary of the model.\n",
        "model.summary()\n",
        "\n",
        "# Compiling the model.\n",
        "model.compile(\n",
        "    optimizer='Adam',\n",
        "    loss='categorical_crossentropy',\n",
        "    metrics=['accuracy'])\n",
        "\n",
        "checkpoint = keras.callbacks.ModelCheckpoint(\n",
        "    'best_model.keras',\n",
        "    monitor='val_accuracy',\n",
        "    save_best_only=True,\n",
        "    mode='max')\n",
        "\n",
        "\n",
        "# Training the model.\n",
        "model.fit(\n",
        "    X_train, y_train,\n",
        "    batch_size=BATCH_SIZE, epochs=EPOCHS,\n",
        "    verbose=VERBOSE, validation_split=VALIDATION_SPLIT,\n",
        "    callbacks = [checkpoint]\n",
        "    )\n",
        "\n",
        "\n",
        "# Evaluating the model.\n",
        "test_loss, test_acc = model.evaluate(X_test, y_test)\n",
        "print('Test accuracy:', test_acc)"
      ],
      "metadata": {
        "colab": {
          "base_uri": "https://localhost:8080/"
        },
        "id": "0Qc002JvcCNa",
        "outputId": "582e211a-331f-44a6-8b0d-a2c6bfbf53ef"
      },
      "execution_count": 63,
      "outputs": [
        {
          "output_type": "stream",
          "name": "stdout",
          "text": [
            "60000 train samples\n",
            "10000 test samples\n",
            "Model: \"sequential_15\"\n",
            "_________________________________________________________________\n",
            " Layer (type)                Output Shape              Param #   \n",
            "=================================================================\n",
            " dense_layer (Dense)         (None, 128)               100480    \n",
            "                                                                 \n",
            " dropout_6 (Dropout)         (None, 128)               0         \n",
            "                                                                 \n",
            " dense_layer_2 (Dense)       (None, 128)               16512     \n",
            "                                                                 \n",
            " dropout_7 (Dropout)         (None, 128)               0         \n",
            "                                                                 \n",
            " dense_layer_3 (Dense)       (None, 10)                1290      \n",
            "                                                                 \n",
            "=================================================================\n",
            "Total params: 118,282\n",
            "Trainable params: 118,282\n",
            "Non-trainable params: 0\n",
            "_________________________________________________________________\n",
            "Epoch 1/10\n",
            "375/375 [==============================] - 5s 10ms/step - loss: 0.5173 - accuracy: 0.8418 - val_loss: 0.1859 - val_accuracy: 0.9449\n",
            "Epoch 2/10\n",
            "375/375 [==============================] - 3s 7ms/step - loss: 0.2350 - accuracy: 0.9302 - val_loss: 0.1388 - val_accuracy: 0.9603\n",
            "Epoch 3/10\n",
            "375/375 [==============================] - 3s 7ms/step - loss: 0.1788 - accuracy: 0.9466 - val_loss: 0.1154 - val_accuracy: 0.9657\n",
            "Epoch 4/10\n",
            "375/375 [==============================] - 3s 7ms/step - loss: 0.1521 - accuracy: 0.9541 - val_loss: 0.1052 - val_accuracy: 0.9697\n",
            "Epoch 5/10\n",
            "375/375 [==============================] - 4s 10ms/step - loss: 0.1361 - accuracy: 0.9591 - val_loss: 0.0942 - val_accuracy: 0.9729\n",
            "Epoch 6/10\n",
            "375/375 [==============================] - 3s 7ms/step - loss: 0.1186 - accuracy: 0.9641 - val_loss: 0.0901 - val_accuracy: 0.9721\n",
            "Epoch 7/10\n",
            "375/375 [==============================] - 3s 8ms/step - loss: 0.1084 - accuracy: 0.9665 - val_loss: 0.0866 - val_accuracy: 0.9740\n",
            "Epoch 8/10\n",
            "375/375 [==============================] - 3s 7ms/step - loss: 0.1001 - accuracy: 0.9689 - val_loss: 0.0878 - val_accuracy: 0.9748\n",
            "Epoch 9/10\n",
            "375/375 [==============================] - 4s 11ms/step - loss: 0.0955 - accuracy: 0.9700 - val_loss: 0.0843 - val_accuracy: 0.9762\n",
            "Epoch 10/10\n",
            "375/375 [==============================] - 3s 7ms/step - loss: 0.0858 - accuracy: 0.9724 - val_loss: 0.0821 - val_accuracy: 0.9776\n",
            "313/313 [==============================] - 1s 2ms/step - loss: 0.0813 - accuracy: 0.9754\n",
            "Test accuracy: 0.9753999710083008\n"
          ]
        }
      ]
    },
    {
      "cell_type": "markdown",
      "source": [
        "### Save the trained model"
      ],
      "metadata": {
        "id": "tE00EpmZfD7r"
      }
    },
    {
      "cell_type": "code",
      "source": [
        "# Save the entire model in Keras format\n",
        "model.save('final_model.keras')"
      ],
      "metadata": {
        "id": "u67AxdCTbwKy"
      },
      "execution_count": 64,
      "outputs": []
    },
    {
      "cell_type": "code",
      "source": [
        "tf.keras.models.load_model('final_model.keras')"
      ],
      "metadata": {
        "colab": {
          "base_uri": "https://localhost:8080/"
        },
        "id": "uoGItW5SbcFo",
        "outputId": "202d8f47-5a3a-46b7-b85f-29e9f77c51bb"
      },
      "execution_count": 66,
      "outputs": [
        {
          "output_type": "execute_result",
          "data": {
            "text/plain": [
              "<keras.engine.sequential.Sequential at 0x797e918e9180>"
            ]
          },
          "metadata": {},
          "execution_count": 66
        }
      ]
    },
    {
      "cell_type": "markdown",
      "source": [
        "This code will create two files: `best_model.keras` and `final_model.keras`, which contain the model's architecture, weights, optimizer, and losses."
      ],
      "metadata": {
        "id": "ejF1zecPkGT7"
      }
    },
    {
      "cell_type": "code",
      "source": [],
      "metadata": {
        "id": "M2YFltytjT8K"
      },
      "execution_count": null,
      "outputs": []
    }
  ]
}