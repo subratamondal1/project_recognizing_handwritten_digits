{
  "nbformat": 4,
  "nbformat_minor": 0,
  "metadata": {
    "colab": {
      "provenance": [],
      "authorship_tag": "ABX9TyPzyU+lWI3kIsQAqZNqXOd4",
      "include_colab_link": true
    },
    "kernelspec": {
      "name": "python3",
      "display_name": "Python 3"
    },
    "language_info": {
      "name": "python"
    }
  },
  "cells": [
    {
      "cell_type": "markdown",
      "metadata": {
        "id": "view-in-github",
        "colab_type": "text"
      },
      "source": [
        "<a href=\"https://colab.research.google.com/github/subratamondal1/project_recognizing_handwritten_digits/blob/main/recognizing_handwritten_digits.ipynb\" target=\"_parent\"><img src=\"https://colab.research.google.com/assets/colab-badge.svg\" alt=\"Open In Colab\"/></a>"
      ]
    },
    {
      "cell_type": "markdown",
      "source": [
        "# 📚 Project -- Recognizing Handwritten Digits\n",
        "\n",
        "## Introduction\n",
        "We will build a Neural Network that can recognize handwritten numbers. To achieve this goal, we use **MNIST**, a database of handwritten digits made up of a training set of **60,000** examples, and a test set of 10,000 examples. The training examples are annotated by humans with the correct answer. For instance, if the handwritten digit is the number “3,” then 3 is simply the label associated with that example.\n",
        "* **`Supervised Learning ---`** a type of machine learning that uses labeled data to train a model that can classify data or predict outcomes.\n",
        "* Each MNIST image is in **grayscale** and consists of **28 x 28** pixels."
      ],
      "metadata": {
        "id": "dQpH0QjmIP8w"
      }
    },
    {
      "cell_type": "markdown",
      "source": [
        "## Defining a Simple Neural Network\n",
        "We start with a very simple neural network and then progressively improve it.\n",
        "\n",
        "### Import Libraries"
      ],
      "metadata": {
        "id": "3lUKb5rIJOpG"
      }
    },
    {
      "cell_type": "code",
      "execution_count": 1,
      "metadata": {
        "id": "9AR2jtGtIH4V"
      },
      "outputs": [],
      "source": [
        "import numpy as np\n",
        "import tensorflow as tf\n",
        "from tensorflow import keras"
      ]
    },
    {
      "cell_type": "code",
      "source": [
        "# Network and Train"
      ],
      "metadata": {
        "id": "CIcgG5cKKNtg"
      },
      "execution_count": null,
      "outputs": []
    }
  ]
}