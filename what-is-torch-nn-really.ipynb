{
 "cells": [
  {
   "cell_type": "code",
   "execution_count": 1,
   "id": "1718c4f9",
   "metadata": {
    "_cell_guid": "b1076dfc-b9ad-4769-8c92-a6c4dae69d19",
    "_uuid": "8f2839f25d086af736a60e9eeb907d3b93b6e0e5",
    "execution": {
     "iopub.execute_input": "2023-08-23T16:17:53.318407Z",
     "iopub.status.busy": "2023-08-23T16:17:53.317456Z",
     "iopub.status.idle": "2023-08-23T16:17:53.333836Z",
     "shell.execute_reply": "2023-08-23T16:17:53.332556Z"
    },
    "papermill": {
     "duration": 0.029145,
     "end_time": "2023-08-23T16:17:53.336621",
     "exception": false,
     "start_time": "2023-08-23T16:17:53.307476",
     "status": "completed"
    },
    "tags": []
   },
   "outputs": [],
   "source": [
    "# This Python 3 environment comes with many helpful analytics libraries installed\n",
    "# It is defined by the kaggle/python Docker image: https://github.com/kaggle/docker-python\n",
    "# For example, here's several helpful packages to load\n",
    "\n",
    "import numpy as np # linear algebra\n",
    "import pandas as pd # data processing, CSV file I/O (e.g. pd.read_csv)\n",
    "\n",
    "# Input data files are available in the read-only \"../input/\" directory\n",
    "# For example, running this (by clicking run or pressing Shift+Enter) will list all files under the input directory\n",
    "\n",
    "import os\n",
    "for dirname, _, filenames in os.walk('/kaggle/input'):\n",
    "    for filename in filenames:\n",
    "        print(os.path.join(dirname, filename))\n",
    "\n",
    "# You can write up to 20GB to the current directory (/kaggle/working/) that gets preserved as output when you create a version using \"Save & Run All\" \n",
    "# You can also write temporary files to /kaggle/temp/, but they won't be saved outside of the current session"
   ]
  },
  {
   "cell_type": "markdown",
   "id": "7aa9c150",
   "metadata": {
    "papermill": {
     "duration": 0.007103,
     "end_time": "2023-08-23T16:17:53.351377",
     "exception": false,
     "start_time": "2023-08-23T16:17:53.344274",
     "status": "completed"
    },
    "tags": []
   },
   "source": [
    "# MNIST data setup"
   ]
  },
  {
   "cell_type": "markdown",
   "id": "0819c3ab",
   "metadata": {
    "papermill": {
     "duration": 0.008051,
     "end_time": "2023-08-23T16:17:53.366827",
     "exception": false,
     "start_time": "2023-08-23T16:17:53.358776",
     "status": "completed"
    },
    "tags": []
   },
   "source": [
    "**`dataset.py`**"
   ]
  },
  {
   "cell_type": "code",
   "execution_count": 2,
   "id": "88eac9f9",
   "metadata": {
    "execution": {
     "iopub.execute_input": "2023-08-23T16:17:53.383948Z",
     "iopub.status.busy": "2023-08-23T16:17:53.382926Z",
     "iopub.status.idle": "2023-08-23T16:17:53.392990Z",
     "shell.execute_reply": "2023-08-23T16:17:53.391706Z"
    },
    "papermill": {
     "duration": 0.021525,
     "end_time": "2023-08-23T16:17:53.395786",
     "exception": false,
     "start_time": "2023-08-23T16:17:53.374261",
     "status": "completed"
    },
    "tags": []
   },
   "outputs": [],
   "source": [
    "from pathlib import Path # Import the Path class from pathlib module\n",
    "import requests # Import the requests module for making HTTP requests\n",
    "\n",
    "def myData():\n",
    "    ### Download Dataset ###\n",
    "    data_path = Path(\"data\") # Create a Path object for the data directory\n",
    "    actual_path = data_path/\"mnist\" # Create a Path object for the mnist subdirectory\n",
    "\n",
    "    # Create the directory if it does not exist\n",
    "    actual_path.mkdir(parents=True, exist_ok=True)\n",
    "\n",
    "    url = \"https://github.com/pytorch/tutorials/raw/main/_static/\" # The base URL for the dataset\n",
    "    file_name = \"mnist.pkl.gz\" # The file name of the dataset\n",
    "\n",
    "    # Check if the file already exists in the local directory\n",
    "    if not (actual_path/file_name).exists():\n",
    "        # If not, download the file from the URL and save it to the local directory\n",
    "        content = requests.get(url+file_name).content # Get the content of the file as bytes\n",
    "        (actual_path/file_name).open(\"wb\").write(content) # Open the file in write mode and write the content\n",
    "\n",
    "    ### Extract Dataset ###\n",
    "    import pickle # Import the pickle module for loading and saving Python objects\n",
    "    import gzip # Import the gzip module for working with compressed files\n",
    "\n",
    "    # Open the compressed file in read mode\n",
    "    with gzip.open((actual_path/file_name).as_posix(), \"rb\") as f:\n",
    "        # Load the pickle object from the file, which contains three tuples: \n",
    "        # (x_train,y_train), (x_valid,y_valid), (x_test,y_test)\n",
    "        ((x_train,y_train),(x_valid,y_valid),_) = pickle.load(file=f, encoding=\"latin-1\")\n",
    "        # We only need the first two tuples, so we ignore the third one with an underscore\n",
    "\n",
    "    return (x_train,y_train), (x_valid,y_valid) # Return the two tuples as the output of the function\n"
   ]
  },
  {
   "cell_type": "code",
   "execution_count": 3,
   "id": "4baa4265",
   "metadata": {
    "execution": {
     "iopub.execute_input": "2023-08-23T16:17:53.412372Z",
     "iopub.status.busy": "2023-08-23T16:17:53.411936Z",
     "iopub.status.idle": "2023-08-23T16:17:55.886593Z",
     "shell.execute_reply": "2023-08-23T16:17:55.885336Z"
    },
    "papermill": {
     "duration": 2.486106,
     "end_time": "2023-08-23T16:17:55.889335",
     "exception": false,
     "start_time": "2023-08-23T16:17:53.403229",
     "status": "completed"
    },
    "tags": []
   },
   "outputs": [
    {
     "name": "stdout",
     "output_type": "stream",
     "text": [
      "x_train shape: (50000, 784), y_train shape: (50000,)\n",
      "x_valid shape: (10000, 784), y_valid shape: (10000,)\n"
     ]
    }
   ],
   "source": [
    "(x_train,y_train), (x_valid,y_valid) = myData()\n",
    "print(f\"x_train shape: {x_train.shape}, y_train shape: {y_train.shape}\")\n",
    "print(f\"x_valid shape: {x_valid.shape}, y_valid shape: {y_valid.shape}\")"
   ]
  },
  {
   "cell_type": "code",
   "execution_count": 4,
   "id": "312e5009",
   "metadata": {
    "execution": {
     "iopub.execute_input": "2023-08-23T16:17:55.906095Z",
     "iopub.status.busy": "2023-08-23T16:17:55.905695Z",
     "iopub.status.idle": "2023-08-23T16:17:58.104873Z",
     "shell.execute_reply": "2023-08-23T16:17:58.103281Z"
    },
    "papermill": {
     "duration": 2.210994,
     "end_time": "2023-08-23T16:17:58.107868",
     "exception": false,
     "start_time": "2023-08-23T16:17:55.896874",
     "status": "completed"
    },
    "tags": []
   },
   "outputs": [
    {
     "name": "stdout",
     "output_type": "stream",
     "text": [
      "\u001b[01;34m/kaggle\u001b[00m\r\n",
      "├── \u001b[01;34minput\u001b[00m\r\n",
      "├── \u001b[01;34mlib\u001b[00m\r\n",
      "│   └── \u001b[01;34mkaggle\u001b[00m\r\n",
      "│       └── gcp.py\r\n",
      "├── \u001b[01;34msrc\u001b[00m\r\n",
      "│   └── script.ipynb\r\n",
      "└── \u001b[01;34mworking\u001b[00m\r\n",
      "    ├── __notebook__.ipynb\r\n",
      "    └── \u001b[01;34mdata\u001b[00m\r\n",
      "        └── \u001b[01;34mmnist\u001b[00m\r\n",
      "            └── \u001b[01;31mmnist.pkl.gz\u001b[00m\r\n",
      "\r\n",
      "7 directories, 4 files\r\n",
      "total 16M\r\n",
      "16M mnist.pkl.gz\r\n"
     ]
    }
   ],
   "source": [
    "! tree /kaggle\n",
    "! ls -sh /kaggle/working/data/mnist/"
   ]
  },
  {
   "cell_type": "markdown",
   "id": "991ed563",
   "metadata": {
    "papermill": {
     "duration": 0.00741,
     "end_time": "2023-08-23T16:17:58.122993",
     "exception": false,
     "start_time": "2023-08-23T16:17:58.115583",
     "status": "completed"
    },
    "tags": []
   },
   "source": [
    "# Data Exploration\n",
    "Each image is 28 x 28, and is being stored as a flattened row of length 784 (=28x28). Let’s take a look at one; we need to reshape it to 2d first."
   ]
  },
  {
   "cell_type": "markdown",
   "id": "f2d6e4b4",
   "metadata": {
    "papermill": {
     "duration": 0.008748,
     "end_time": "2023-08-23T16:17:58.139617",
     "exception": false,
     "start_time": "2023-08-23T16:17:58.130869",
     "status": "completed"
    },
    "tags": []
   },
   "source": [
    "**`data_exploration.py`**"
   ]
  },
  {
   "cell_type": "markdown",
   "id": "398ea1f2",
   "metadata": {
    "papermill": {
     "duration": 0.007471,
     "end_time": "2023-08-23T16:17:58.155923",
     "exception": false,
     "start_time": "2023-08-23T16:17:58.148452",
     "status": "completed"
    },
    "tags": []
   },
   "source": [
    "You have to reshape the **x_train[0]** array to **(28, 28)** because the **imshow()** function expects a 2D array as input for displaying a grayscale image. The x_train[0] array is a 1D array of length 784, which represents a **flattened image of 28 by 28 pixels**. By reshaping it to (28, 28), **you are restoring the original shape of the image and making it compatible with imshow().**"
   ]
  },
  {
   "cell_type": "code",
   "execution_count": 5,
   "id": "4ac71fe6",
   "metadata": {
    "execution": {
     "iopub.execute_input": "2023-08-23T16:17:58.174028Z",
     "iopub.status.busy": "2023-08-23T16:17:58.173207Z",
     "iopub.status.idle": "2023-08-23T16:17:58.476593Z",
     "shell.execute_reply": "2023-08-23T16:17:58.475466Z"
    },
    "papermill": {
     "duration": 0.316478,
     "end_time": "2023-08-23T16:17:58.480200",
     "exception": false,
     "start_time": "2023-08-23T16:17:58.163722",
     "status": "completed"
    },
    "tags": []
   },
   "outputs": [
    {
     "data": {
      "image/png": "[encoded data removed]",
      "text/plain": [
       "<Figure size 640x480 with 1 Axes>"
      ]
     },
     "metadata": {},
     "output_type": "display_data"
    },
    {
     "name": "stdout",
     "output_type": "stream",
     "text": [
      "(50000, 784)\n"
     ]
    }
   ],
   "source": [
    "import matplotlib.pyplot as plt\n",
    "import numpy as np\n",
    "\n",
    "plt.imshow(x_train[0].reshape((28, 28)), cmap=\"gray\")\n",
    "plt.show()\n",
    "\n",
    "print(x_train.shape)"
   ]
  },
  {
   "cell_type": "markdown",
   "id": "56d91c74",
   "metadata": {
    "papermill": {
     "duration": 0.007722,
     "end_time": "2023-08-23T16:17:58.496130",
     "exception": false,
     "start_time": "2023-08-23T16:17:58.488408",
     "status": "completed"
    },
    "tags": []
   },
   "source": [
    "# Forward Pass\n",
    "1. **initialize weights and biases (i.e parameters).**\n",
    "2. **NN architecture : input ➡️ output (simple architecture with no hidden layer)**\n",
    "     * **Number of neurons in the Input Layer is (28x28) = 784 and**\n",
    "     * **Number of neurons in the Output Layer is 10**"
   ]
  },
  {
   "cell_type": "markdown",
   "id": "cfd12877",
   "metadata": {
    "papermill": {
     "duration": 0.00761,
     "end_time": "2023-08-23T16:17:58.511669",
     "exception": false,
     "start_time": "2023-08-23T16:17:58.504059",
     "status": "completed"
    },
    "tags": []
   },
   "source": [
    "**`model.py`**"
   ]
  },
  {
   "cell_type": "code",
   "execution_count": 6,
   "id": "d8eb8f8f",
   "metadata": {
    "execution": {
     "iopub.execute_input": "2023-08-23T16:17:58.529835Z",
     "iopub.status.busy": "2023-08-23T16:17:58.529432Z",
     "iopub.status.idle": "2023-08-23T16:18:02.448421Z",
     "shell.execute_reply": "2023-08-23T16:18:02.447039Z"
    },
    "papermill": {
     "duration": 3.93207,
     "end_time": "2023-08-23T16:18:02.451618",
     "exception": false,
     "start_time": "2023-08-23T16:17:58.519548",
     "status": "completed"
    },
    "tags": []
   },
   "outputs": [],
   "source": [
    "import torch"
   ]
  },
  {
   "cell_type": "code",
   "execution_count": 7,
   "id": "b36e6181",
   "metadata": {
    "execution": {
     "iopub.execute_input": "2023-08-23T16:18:02.470169Z",
     "iopub.status.busy": "2023-08-23T16:18:02.469444Z",
     "iopub.status.idle": "2023-08-23T16:18:02.704525Z",
     "shell.execute_reply": "2023-08-23T16:18:02.703215Z"
    },
    "papermill": {
     "duration": 0.247197,
     "end_time": "2023-08-23T16:18:02.707195",
     "exception": false,
     "start_time": "2023-08-23T16:18:02.459998",
     "status": "completed"
    },
    "tags": []
   },
   "outputs": [
    {
     "data": {
      "text/plain": [
       "(tensor([[0., 0., 0.,  ..., 0., 0., 0.],\n",
       "         [0., 0., 0.,  ..., 0., 0., 0.],\n",
       "         [0., 0., 0.,  ..., 0., 0., 0.],\n",
       "         ...,\n",
       "         [0., 0., 0.,  ..., 0., 0., 0.],\n",
       "         [0., 0., 0.,  ..., 0., 0., 0.],\n",
       "         [0., 0., 0.,  ..., 0., 0., 0.]]),\n",
       " tensor([5, 0, 4,  ..., 8, 4, 8]),\n",
       " tensor([[0., 0., 0.,  ..., 0., 0., 0.],\n",
       "         [0., 0., 0.,  ..., 0., 0., 0.],\n",
       "         [0., 0., 0.,  ..., 0., 0., 0.],\n",
       "         ...,\n",
       "         [0., 0., 0.,  ..., 0., 0., 0.],\n",
       "         [0., 0., 0.,  ..., 0., 0., 0.],\n",
       "         [0., 0., 0.,  ..., 0., 0., 0.]]),\n",
       " tensor([3, 8, 6,  ..., 5, 6, 8]))"
      ]
     },
     "execution_count": 7,
     "metadata": {},
     "output_type": "execute_result"
    }
   ],
   "source": [
    "# Convert the numpy arrays to tensor\n",
    "x_train, y_train, x_valid, y_valid = map(torch.tensor, (x_train, y_train, x_valid, y_valid))\n",
    "x_train, y_train, x_valid, y_valid"
   ]
  },
  {
   "cell_type": "markdown",
   "id": "c5de9486",
   "metadata": {
    "papermill": {
     "duration": 0.008335,
     "end_time": "2023-08-23T16:18:02.724033",
     "exception": false,
     "start_time": "2023-08-23T16:18:02.715698",
     "status": "completed"
    },
    "tags": []
   },
   "source": [
    "1. **initialize weights and biases (i.e parameters).**\n",
    "\n",
    "**`Xavier Initialization`** is a technique for initializing the weights of a neural network in a way that **preserves the variance of the inputs and outputs of each layer**. The idea is **to avoid having very small or very large values in the weights,** which **can cause vanishing or exploding gradients during training.** Xavier initialization draws the weights from a uniform distribution with a specific range, depending on the number of input and output units of each layer."
   ]
  },
  {
   "cell_type": "code",
   "execution_count": 8,
   "id": "26d4d977",
   "metadata": {
    "execution": {
     "iopub.execute_input": "2023-08-23T16:18:02.742650Z",
     "iopub.status.busy": "2023-08-23T16:18:02.742257Z",
     "iopub.status.idle": "2023-08-23T16:18:02.763459Z",
     "shell.execute_reply": "2023-08-23T16:18:02.762462Z"
    },
    "papermill": {
     "duration": 0.034168,
     "end_time": "2023-08-23T16:18:02.766443",
     "exception": false,
     "start_time": "2023-08-23T16:18:02.732275",
     "status": "completed"
    },
    "tags": []
   },
   "outputs": [],
   "source": [
    "import math\n",
    "torch.manual_seed(0)\n",
    "weights = torch.randn(784,10,requires_grad=True) / math.sqrt(784) # Xavier Initialization\n",
    "bias = torch.zeros(10,requires_grad=True) "
   ]
  },
  {
   "cell_type": "markdown",
   "id": "6e74d710",
   "metadata": {
    "papermill": {
     "duration": 0.007991,
     "end_time": "2023-08-23T16:18:02.782805",
     "exception": false,
     "start_time": "2023-08-23T16:18:02.774814",
     "status": "completed"
    },
    "tags": []
   },
   "source": [
    "2. **NN architecture : input ➡️ output (simple architecture with no hidden layer)**"
   ]
  },
  {
   "cell_type": "code",
   "execution_count": 9,
   "id": "2a8e0f1c",
   "metadata": {
    "execution": {
     "iopub.execute_input": "2023-08-23T16:18:02.801602Z",
     "iopub.status.busy": "2023-08-23T16:18:02.801204Z",
     "iopub.status.idle": "2023-08-23T16:18:02.806807Z",
     "shell.execute_reply": "2023-08-23T16:18:02.805638Z"
    },
    "papermill": {
     "duration": 0.01816,
     "end_time": "2023-08-23T16:18:02.809257",
     "exception": false,
     "start_time": "2023-08-23T16:18:02.791097",
     "status": "completed"
    },
    "tags": []
   },
   "outputs": [],
   "source": [
    "def model(batched_input):\n",
    "    return batched_input @ weights + bias"
   ]
  },
  {
   "cell_type": "markdown",
   "id": "1a9f68c3",
   "metadata": {
    "papermill": {
     "duration": 0.008227,
     "end_time": "2023-08-23T16:18:02.825907",
     "exception": false,
     "start_time": "2023-08-23T16:18:02.817680",
     "status": "completed"
    },
    "tags": []
   },
   "source": [
    "3. **Loss Function**"
   ]
  },
  {
   "cell_type": "code",
   "execution_count": 10,
   "id": "e6c78d3c",
   "metadata": {
    "execution": {
     "iopub.execute_input": "2023-08-23T16:18:02.844975Z",
     "iopub.status.busy": "2023-08-23T16:18:02.844561Z",
     "iopub.status.idle": "2023-08-23T16:18:02.935242Z",
     "shell.execute_reply": "2023-08-23T16:18:02.934312Z"
    },
    "papermill": {
     "duration": 0.103842,
     "end_time": "2023-08-23T16:18:02.938093",
     "exception": false,
     "start_time": "2023-08-23T16:18:02.834251",
     "status": "completed"
    },
    "tags": []
   },
   "outputs": [
    {
     "name": "stdout",
     "output_type": "stream",
     "text": [
      "tensor([[0.0536, 0.0503, 0.0946,  ..., 0.1342, 0.0897, 0.1038],\n",
      "        [0.0529, 0.0615, 0.1341,  ..., 0.1225, 0.0830, 0.0774],\n",
      "        [0.0952, 0.1340, 0.1113,  ..., 0.1033, 0.0914, 0.0916],\n",
      "        ...,\n",
      "        [0.0671, 0.1293, 0.0686,  ..., 0.1668, 0.1060, 0.0906],\n",
      "        [0.0626, 0.1156, 0.0831,  ..., 0.1021, 0.0638, 0.1103],\n",
      "        [0.0542, 0.0950, 0.0795,  ..., 0.1658, 0.0540, 0.1028]],\n",
      "       grad_fn=<DivBackward0>)\n",
      "\n",
      "torch.Size([50000, 10])\n"
     ]
    }
   ],
   "source": [
    "# softmax activation function\n",
    "def softmax(x):\n",
    "    return x.exp()/x.exp().sum(-1).unsqueeze(-1)\n",
    "\n",
    "print(softmax(model(x_train)))\n",
    "print()\n",
    "print(softmax(model(x_train)).shape)"
   ]
  },
  {
   "cell_type": "code",
   "execution_count": 11,
   "id": "bdced964",
   "metadata": {
    "execution": {
     "iopub.execute_input": "2023-08-23T16:18:02.958416Z",
     "iopub.status.busy": "2023-08-23T16:18:02.957331Z",
     "iopub.status.idle": "2023-08-23T16:18:02.964093Z",
     "shell.execute_reply": "2023-08-23T16:18:02.963057Z"
    },
    "papermill": {
     "duration": 0.01909,
     "end_time": "2023-08-23T16:18:02.966556",
     "exception": false,
     "start_time": "2023-08-23T16:18:02.947466",
     "status": "completed"
    },
    "tags": []
   },
   "outputs": [],
   "source": [
    "# Cross Entropy Loss\n",
    "def cross_entropy_loss(preds, targets):\n",
    "    batch_size, output_features = preds.shape\n",
    "    one_hot_encode_targets = torch.eye(output_features)[targets]\n",
    "    # -1/n sum p * log(q) -> n is batch_size : sum everything and take average over the batch\n",
    "    return -(one_hot_encode_targets * softmax(preds).log()).sum()/batch_size\n",
    "\n",
    "loss_function = cross_entropy_loss"
   ]
  },
  {
   "cell_type": "markdown",
   "id": "3d89f0b0",
   "metadata": {
    "papermill": {
     "duration": 0.007988,
     "end_time": "2023-08-23T16:18:02.983091",
     "exception": false,
     "start_time": "2023-08-23T16:18:02.975103",
     "status": "completed"
    },
    "tags": []
   },
   "source": [
    "Test if our implementation of `cross_entropy_loss` is correct or not."
   ]
  },
  {
   "cell_type": "code",
   "execution_count": 12,
   "id": "f99a1432",
   "metadata": {
    "execution": {
     "iopub.execute_input": "2023-08-23T16:18:03.001621Z",
     "iopub.status.busy": "2023-08-23T16:18:03.000817Z",
     "iopub.status.idle": "2023-08-23T16:18:03.038301Z",
     "shell.execute_reply": "2023-08-23T16:18:03.036516Z"
    },
    "papermill": {
     "duration": 0.049765,
     "end_time": "2023-08-23T16:18:03.041076",
     "exception": false,
     "start_time": "2023-08-23T16:18:02.991311",
     "status": "completed"
    },
    "tags": []
   },
   "outputs": [
    {
     "name": "stdout",
     "output_type": "stream",
     "text": [
      "PyTorch's Function: 2.4608449935913086\n",
      "My Function: 2.4608447551727295\n"
     ]
    }
   ],
   "source": [
    "import torch.nn.functional as F\n",
    "\n",
    "batch_size = 64\n",
    "\n",
    "batched_x = x_train[:batch_size]\n",
    "preds = model(batched_x)\n",
    "batched_y = y_train[:batch_size]\n",
    "\n",
    "print(f\"PyTorch's Function: {F.cross_entropy(preds, batched_y)}\")\n",
    "print(f\"My Function: {cross_entropy_loss(preds, batched_y)}\")"
   ]
  },
  {
   "cell_type": "code",
   "execution_count": null,
   "id": "e3336f2e",
   "metadata": {
    "papermill": {
     "duration": 0.008015,
     "end_time": "2023-08-23T16:18:03.057694",
     "exception": false,
     "start_time": "2023-08-23T16:18:03.049679",
     "status": "completed"
    },
    "tags": []
   },
   "outputs": [],
   "source": []
  }
 ],
 "metadata": {
  "kernelspec": {
   "display_name": "Python 3",
   "language": "python",
   "name": "python3"
  },
  "language_info": {
   "codemirror_mode": {
    "name": "ipython",
    "version": 3
   },
   "file_extension": ".py",
   "mimetype": "text/x-python",
   "name": "python",
   "nbconvert_exporter": "python",
   "pygments_lexer": "ipython3",
   "version": "3.10.12"
  },
  "papermill": {
   "default_parameters": {},
   "duration": 23.777687,
   "end_time": "2023-08-23T16:18:04.491358",
   "environment_variables": {},
   "exception": null,
   "input_path": "__notebook__.ipynb",
   "output_path": "__notebook__.ipynb",
   "parameters": {},
   "start_time": "2023-08-23T16:17:40.713671",
   "version": "2.4.0"
  }
 },
 "nbformat": 4,
 "nbformat_minor": 5
}
